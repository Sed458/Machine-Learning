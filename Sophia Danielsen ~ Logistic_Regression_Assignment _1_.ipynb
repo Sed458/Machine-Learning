{
 "cells": [
  {
   "cell_type": "markdown",
   "metadata": {},
   "source": [
    "# Programming Assignment Logistic Regression\n",
    "Breast Cancer Prediction"
   ]
  },
  {
   "cell_type": "code",
   "execution_count": 1,
   "metadata": {},
   "outputs": [],
   "source": [
    "#Import Important Libraries\n",
    "from sklearn.datasets import load_breast_cancer # taking included data set from Sklearn http://scikit-learn.org/stable/modules/generated/sklearn.datasets.load_breast_cancer.html\n",
    "from sklearn.linear_model import LogisticRegression # importing Sklearn's logistic regression's module\n",
    "from sklearn import preprocessing # preprossing is what we do with the data before we run the learning algorithm\n",
    "from sklearn.model_selection import train_test_split \n",
    "import numpy as np\n",
    "import math\n",
    "\n",
    "import matplotlib.pyplot as plt\n",
    "%matplotlib inline"
   ]
  },
  {
   "cell_type": "code",
   "execution_count": 2,
   "metadata": {},
   "outputs": [],
   "source": [
    "# Loading Dataset\n",
    "cancer = load_breast_cancer() "
   ]
  },
  {
   "cell_type": "markdown",
   "metadata": {},
   "source": [
    "# Data Pre-Processing\n",
    "Scale before splitting the data into train and test- scale the data since we will be using gradient ascent"
   ]
  },
  {
   "cell_type": "code",
   "execution_count": 3,
   "metadata": {},
   "outputs": [
    {
     "name": "stdout",
     "output_type": "stream",
     "text": [
      "(426, 30)\n",
      "(426,)\n"
     ]
    }
   ],
   "source": [
    "x_scale = preprocessing.scale(cancer.data)\n",
    "y = cancer.target\n",
    "x_train, x_test, y_train, y_test = train_test_split(x_scale, y, random_state=0)\n",
    "\n",
    "print(x_train.shape)\n",
    "print(y_train.shape)"
   ]
  },
  {
   "cell_type": "code",
   "execution_count": 4,
   "metadata": {},
   "outputs": [
    {
     "name": "stdout",
     "output_type": "stream",
     "text": [
      "['mean radius' 'mean texture' 'mean perimeter' 'mean area'\n",
      " 'mean smoothness' 'mean compactness' 'mean concavity'\n",
      " 'mean concave points' 'mean symmetry' 'mean fractal dimension'\n",
      " 'radius error' 'texture error' 'perimeter error' 'area error'\n",
      " 'smoothness error' 'compactness error' 'concavity error'\n",
      " 'concave points error' 'symmetry error' 'fractal dimension error'\n",
      " 'worst radius' 'worst texture' 'worst perimeter' 'worst area'\n",
      " 'worst smoothness' 'worst compactness' 'worst concavity'\n",
      " 'worst concave points' 'worst symmetry' 'worst fractal dimension']\n"
     ]
    }
   ],
   "source": [
    "# Printing Names of the Features used for prediction.\n",
    "print(cancer.feature_names)"
   ]
  },
  {
   "cell_type": "markdown",
   "metadata": {},
   "source": [
    "# Implementing Logistic Regression Using Gradient Ascent"
   ]
  },
  {
   "cell_type": "code",
   "execution_count": 5,
   "metadata": {},
   "outputs": [],
   "source": [
    "# Write code that computes sigmoid of z. Remember sigmoid can be scalar or a matrix.\n",
    "def sigmoid(z):\n",
    "    sig = 1/(1 + np.exp(-z))\n",
    "    return sig"
   ]
  },
  {
   "cell_type": "code",
   "execution_count": 6,
   "metadata": {},
   "outputs": [
    {
     "name": "stdout",
     "output_type": "stream",
     "text": [
      "0.5\n"
     ]
    }
   ],
   "source": [
    "# Sigmoid of 0 should be equal to half.\n",
    "print(sigmoid(0))"
   ]
  },
  {
   "cell_type": "code",
   "execution_count": 7,
   "metadata": {},
   "outputs": [
    {
     "name": "stdout",
     "output_type": "stream",
     "text": [
      "(426, 31)\n",
      "[[ 1.         -0.64678318 -0.42577149 ... -0.35335182  0.32395133\n",
      "  -0.76893975]\n",
      " [ 1.         -0.82571213  0.13272462 ... -1.43718102  0.63294742\n",
      "  -1.03770647]\n",
      " [ 1.          1.70485436  2.08513394 ...  0.73382724 -0.53185462\n",
      "  -0.97397828]\n",
      " ...\n",
      " [ 1.         -1.33239345 -0.22564372 ... -0.97581512 -0.72275273\n",
      "  -0.14329518]\n",
      " [ 1.         -1.25173342 -0.24891439 ... -1.74506282 -1.60444316\n",
      "  -1.01720262]\n",
      " [ 1.         -0.74334801  1.07984094 ... -0.27523937 -1.2760337\n",
      "   0.1869831 ]]\n"
     ]
    }
   ],
   "source": [
    "# Appending a Column of Ones in x_train.\n",
    "# ones is a vector of shape n,1\n",
    "ones = np.ones((x_train.shape[0],1))\n",
    "# Append a column of ones in the beginning of x_train an save in variable a.\n",
    "a = np.hstack((ones, x_train))\n",
    "print(a.shape)\n",
    "print(a)"
   ]
  },
  {
   "cell_type": "code",
   "execution_count": 8,
   "metadata": {},
   "outputs": [],
   "source": [
    "# Initialize Parameter Vector w: A vector of shape x_train.shape[1],1\n",
    "w = np.zeros((a.shape[1], 1))"
   ]
  },
  {
   "cell_type": "code",
   "execution_count": 9,
   "metadata": {},
   "outputs": [],
   "source": [
    "# Hypothesis Function. Write code that computes hypothesis using a and w.\n",
    "def hypothesis(a , w):\n",
    "    z = a.dot(w)\n",
    "    h = sigmoid(z)\n",
    "    return h"
   ]
  },
  {
   "cell_type": "code",
   "execution_count": 10,
   "metadata": {},
   "outputs": [],
   "source": [
    "# Computing Predicted Values.\n",
    "yhat = hypothesis(a, w)"
   ]
  },
  {
   "cell_type": "markdown",
   "metadata": {},
   "source": [
    "# Likelihood Function.\n",
    "Write the code to calculate the log likelihood as discussed in the class."
   ]
  },
  {
   "cell_type": "code",
   "execution_count": 11,
   "metadata": {},
   "outputs": [],
   "source": [
    "def likelihood(X_tr , Y_tr , w , n):\n",
    "    \n",
    "    yhat = hypothesis(X_tr, w)\n",
    "    likelihood = (1/n)*np.sum(Y_tr * np.log(yhat) + (1 - Y_tr) * np.log(1 - yhat))\n",
    "    \n",
    "    return likelihood"
   ]
  },
  {
   "cell_type": "code",
   "execution_count": 12,
   "metadata": {},
   "outputs": [
    {
     "name": "stdout",
     "output_type": "stream",
     "text": [
      "-295.2806989185367\n"
     ]
    }
   ],
   "source": [
    "# Before moving ahead, run this cell.\n",
    "print(likelihood(a,y_train,w,a.shape[0]))"
   ]
  },
  {
   "cell_type": "markdown",
   "metadata": {},
   "source": [
    "The value should be equal to -295.2806989185367. If this matches, your code is likely to be correct."
   ]
  },
  {
   "cell_type": "markdown",
   "metadata": {},
   "source": [
    "# Gradient Ascent"
   ]
  },
  {
   "cell_type": "code",
   "execution_count": 13,
   "metadata": {},
   "outputs": [],
   "source": [
    "# Write the function that performs Gradient Ascent.\n",
    "def Gradient_Ascent(a, y, learning_rate, num_iters):\n",
    "    n = a.shape[0] # Number of training examples.\n",
    "    \n",
    "    # Initialize w. Zeros vector of shape x_train.shape[1],1\n",
    "    w = np.zeros((a.shape[1], 1))\n",
    "    \n",
    "    # Reshape y to be a rank 2 matrix.\n",
    "    y = y.reshape(y.shape[0],1)\n",
    "    \n",
    "    # Initiating list to store values of likelihood after few iterations.\n",
    "    likelihood_values = []\n",
    "    for i in range(num_iters):\n",
    "        yhat = hypothesis(a, w)\n",
    "        error = np.sum(a*(y - yhat))\n",
    "        gradient = (learning_rate/n)*error\n",
    "        # Updating Parameters\n",
    "        w = w + gradient\n",
    "        if(i%100 ==0):\n",
    "            likelihood_values.append(likelihood(a, y, w, n))\n",
    "        \n",
    "    return w, likelihood_values"
   ]
  },
  {
   "cell_type": "code",
   "execution_count": 14,
   "metadata": {},
   "outputs": [
    {
     "name": "stdout",
     "output_type": "stream",
     "text": [
      "[[-0.14297774]\n",
      " [-0.14297774]\n",
      " [-0.14297774]\n",
      " [-0.14297774]\n",
      " [-0.14297774]\n",
      " [-0.14297774]\n",
      " [-0.14297774]\n",
      " [-0.14297774]\n",
      " [-0.14297774]\n",
      " [-0.14297774]\n",
      " [-0.14297774]\n",
      " [-0.14297774]\n",
      " [-0.14297774]\n",
      " [-0.14297774]\n",
      " [-0.14297774]\n",
      " [-0.14297774]\n",
      " [-0.14297774]\n",
      " [-0.14297774]\n",
      " [-0.14297774]\n",
      " [-0.14297774]\n",
      " [-0.14297774]\n",
      " [-0.14297774]\n",
      " [-0.14297774]\n",
      " [-0.14297774]\n",
      " [-0.14297774]\n",
      " [-0.14297774]\n",
      " [-0.14297774]\n",
      " [-0.14297774]\n",
      " [-0.14297774]\n",
      " [-0.14297774]\n",
      " [-0.14297774]]\n",
      "[-0.6927273417214055, -0.654145744329276, -0.6215180311241595, -0.5937741112637651, -0.5700105391803475, -0.5494942969227872, -0.5316416683989582, -0.5159904377488457, -0.5021739271487531, -0.48989956203917806, -0.47893209424203753, -0.4690807668953481, -0.4601895700946745, -0.45212984128502826, -0.4447946212660632, -0.4380943206868856, -0.4319533670500041, -0.42630758920180484, -0.4211021603165182, -0.4162899670461754, -0.4118303064407707, -0.4076878369676322, -0.4038317280589109, -0.4002349659471118, -0.39687378343495977, -0.3937271886311491, -0.3907765732414125, -0.38800538521798805, -0.3853988537883509, -0.3829437573588161, -0.3806282267049484, -0.37844157735450373, -0.376374166240426, -0.37441726862629227, -0.37256297204083233, -0.37080408454432934, -0.36913405512019526, -0.3675469043646, -0.3660371639547779, -0.364599823627331, -0.36323028460297774, -0.36192431856278057, -0.3606780314200189, -0.3594878312471392, -0.3583503998130942, -0.35726266726642386, -0.3562217895664741, -0.3552251283215255, -0.3542702327401316, -0.35335482344218877, -0.35247677791039117, -0.3516341173917664, -0.35082499508378734, -0.35004768546077136, -0.3493005746144887, -0.3485821514985667, -0.347890999979787, -0.3472257916110543, -0.3465852790509336, -0.3459682900634444, -0.3453737220394481, -0.34480053698763896, -0.3442477569489761, -0.3437144597935044, -0.34319977536298796, -0.34270288192671866, -0.34222300292133295, -0.34175940394852217, -0.34131139000723193, -0.340878302939334, -0.3404595190698765, -0.3400544470249045, -0.33966252571151095, -0.3392832224462807, -0.33891603121960984, -0.3385604710845828, -0.3382160846601398, -0.33788243673923485, -0.33755911299352515, -0.3372457187669083, -0.33694187795091196, -0.3366472319355573, -0.33636143862988505, -0.33608417154683123, -0.33581511894759847, -0.3355539830410851, -0.3353004792343006, -0.33505433543004204, -0.33481529136840993, -0.33458309800902103, -0.3343575169510314, -0.3341383198883126, -0.33392528809733457, -0.3337182119555025, -0.3335168904878673, -0.33332113094029153, -0.33313074837729856, -0.3329455653029666, -0.332765411303351, -0.3325901227090325]\n"
     ]
    }
   ],
   "source": [
    "# Call Gradient_Ascent method by passing appropriate values of learning rate and num_iterations.\n",
    "learning_rate = 0.00001\n",
    "num_iters = 10000\n",
    "w, likelihood_values = Gradient_Ascent(a, y_train, learning_rate, num_iters)\n",
    "print(w)\n",
    "print(likelihood_values)"
   ]
  },
  {
   "cell_type": "markdown",
   "metadata": {},
   "source": [
    "# Plotting Likelihood v/s Number of Iterations."
   ]
  },
  {
   "cell_type": "code",
   "execution_count": 15,
   "metadata": {},
   "outputs": [
    {
     "data": {
      "image/png": "[encoded data removed]",
      "text/plain": [
       "<Figure size 432x288 with 1 Axes>"
      ]
     },
     "metadata": {},
     "output_type": "display_data"
    }
   ],
   "source": [
    "# Run this cell to plot Likelihood v/s Number of Iterations.\n",
    "iters = np.array(range(0,num_iters,100))\n",
    "plt.plot(iters,likelihood_values,'.-',color='green')\n",
    "plt.xlabel('Number of iterations')\n",
    "plt.ylabel('Likelihood')\n",
    "plt.title(\"Likelihood vs Number of Iterations.\")\n",
    "plt.grid()"
   ]
  },
  {
   "cell_type": "markdown",
   "metadata": {},
   "source": [
    "You should see the likelihood increasing as number of Iterations increase."
   ]
  },
  {
   "cell_type": "code",
   "execution_count": 16,
   "metadata": {},
   "outputs": [],
   "source": [
    "# Write the function to compute predicted values using a and w.\n",
    "def predict(a, w):\n",
    "    yhat = hypothesis(a, w)\n",
    "    \n",
    "    return yhat"
   ]
  },
  {
   "cell_type": "code",
   "execution_count": 17,
   "metadata": {},
   "outputs": [],
   "source": [
    "yhat = predict(a, w)"
   ]
  },
  {
   "cell_type": "code",
   "execution_count": 18,
   "metadata": {},
   "outputs": [],
   "source": [
    "# Read the comments in the function carefully.\n",
    "def precision_recall(yhat, y , threshold):\n",
    "    # Write code to compute precision and recall\n",
    "    # Before finding precision or recall, you have to convert yhat into a vector of zeros and ones using threshold.\n",
    "    # Values in yhat > threshold should be equal to 1 and others should be 0.\n",
    "    new_yhat = np.where(yhat > threshold, 1, 0)\n",
    "    TP = 0\n",
    "    FP = 0\n",
    "    TN = 0\n",
    "    FN = 0\n",
    "\n",
    "    for i in range(len(yhat)): \n",
    "        if y[i]==new_yhat[i]==1:\n",
    "           TP += 1\n",
    "        if new_yhat[i]==1 and y[i]!=new_yhat[i]:\n",
    "           FP += 1\n",
    "        if y[i]==new_yhat[i]==0:\n",
    "           TN += 1\n",
    "        if new_yhat[i]==0 and y[i]!=new_yhat[i]:\n",
    "           FN += 1\n",
    "    \n",
    "    print(TP, FP, TN, FN)\n",
    "    \n",
    "    precision = TP/(TP+FP)\n",
    "    \n",
    "    recall = TP/(TP+FN)\n",
    "    \n",
    "    return precision,recall"
   ]
  },
  {
   "cell_type": "code",
   "execution_count": 19,
   "metadata": {},
   "outputs": [
    {
     "name": "stdout",
     "output_type": "stream",
     "text": [
      "244 19 140 23\n",
      "0.9277566539923955\n",
      "0.9138576779026217\n"
     ]
    }
   ],
   "source": [
    "precision, recall = precision_recall(yhat, y_train, 0.45)\n",
    "print(precision)\n",
    "print(recall)"
   ]
  },
  {
   "cell_type": "code",
   "execution_count": 20,
   "metadata": {},
   "outputs": [
    {
     "name": "stdout",
     "output_type": "stream",
     "text": [
      "0.9207547169811321\n"
     ]
    }
   ],
   "source": [
    "def f_score(precision, recall):\n",
    "    f_score = 2 * (precision * recall)/(precision + recall)\n",
    "    return f_score\n",
    "\n",
    "f_score = f_score(precision, recall)\n",
    "\n",
    "print(f_score)"
   ]
  },
  {
   "cell_type": "markdown",
   "metadata": {},
   "source": [
    "# Fitting Model using Sk Learn Library. "
   ]
  },
  {
   "cell_type": "code",
   "execution_count": 21,
   "metadata": {},
   "outputs": [],
   "source": [
    "# Create object of logistic regression model. Pass a large value of C as C = 1/lambda.\n",
    "# So, lambda will become nearly 0.\n",
    "logreg = LogisticRegression(C = 10**10)"
   ]
  },
  {
   "cell_type": "code",
   "execution_count": 22,
   "metadata": {},
   "outputs": [
    {
     "data": {
      "text/plain": [
       "LogisticRegression(C=10000000000, class_weight=None, dual=False,\n",
       "          fit_intercept=True, intercept_scaling=1, max_iter=100,\n",
       "          multi_class='ovr', n_jobs=1, penalty='l2', random_state=None,\n",
       "          solver='liblinear', tol=0.0001, verbose=0, warm_start=False)"
      ]
     },
     "execution_count": 22,
     "metadata": {},
     "output_type": "execute_result"
    }
   ],
   "source": [
    "# Fitting the training set. # Write code to fit the model on the training set.\n",
    "# Don't use matrix a. Instead, use x_train.\n",
    "logreg.fit(x_train, y_train)"
   ]
  },
  {
   "cell_type": "code",
   "execution_count": 43,
   "metadata": {},
   "outputs": [
    {
     "name": "stdout",
     "output_type": "stream",
     "text": [
      "[0 1 1 1 1 1 1 1 1 1 1 1 1 1 1 0 1 0 0 0 0 0 1 1 0 1 1 0 1 0 1 0 1 0 1 0 1\n",
      " 0 1 0 0 1 0 1 1 0 1 1 1 0 0 1 0 1 1 1 1 1 1 0 0 0 1 1 0 1 0 0 0 1 0 0 1 0\n",
      " 0 1 1 1 1 1 0 0 0 1 0 1 1 1 0 0 1 0 0 0 1 1 0 1 1 1 1 1 1 1 0 1 0 1 0 1 1\n",
      " 0 0 1 1 1 1 1 1 1 0 1 1 1 0 1 0 1 1 1 0 1 1 1 1 1 0 0 0 1 1 1 0]\n",
      "Accuracy on training data = 0.944056\n"
     ]
    }
   ],
   "source": [
    "# Find the predicted values on training set using logreg.predict\n",
    "# Here, it will return a vector of zeros and ones.\n",
    "yhat = logreg.predict(x_test)\n",
    "# Find the accuracy achieved on training set.\n",
    "acc = logreg.score(x_test, y_test)\n",
    "print(\"Accuracy on training data = %f\" % acc)"
   ]
  },
  {
   "cell_type": "code",
   "execution_count": 24,
   "metadata": {},
   "outputs": [
    {
     "name": "stdout",
     "output_type": "stream",
     "text": [
      "[[ 18.51105596  -2.64289962   3.98258584  10.36910065   4.73444148\n",
      "   71.40438387 -37.5635375  -44.98603064 -12.1365401  -19.31716072\n",
      "  -31.56633159  11.53958494   3.63580211 -37.63253338   7.25079893\n",
      "   11.37321482  22.31773462 -40.20809173  -3.55543008  68.18028138\n",
      "  -30.70306856 -23.69679679 -29.02088289 -30.51973279  -4.15230281\n",
      "    5.85554849 -32.86592453  14.4030128    3.00803901 -44.98205143]]\n",
      "[-13.19287194]\n"
     ]
    }
   ],
   "source": [
    "# Printing the parameters.\n",
    "# Retrieving the parameters computed by logreg.\n",
    "w = logreg.coef_\n",
    "intercept = logreg.intercept_\n",
    "\n",
    "print(w)\n",
    "print(intercept)\n",
    "# You can compare the parameters computed by logreg model and gradient ascent. They should be nearly same."
   ]
  },
  {
   "cell_type": "markdown",
   "metadata": {},
   "source": [
    "# Performance Metrics:\n"
   ]
  },
  {
   "cell_type": "code",
   "execution_count": 25,
   "metadata": {},
   "outputs": [
    {
     "name": "stdout",
     "output_type": "stream",
     "text": [
      "0.9659090909090909\n",
      "0.9444444444444444\n",
      "0.9550561797752809\n"
     ]
    }
   ],
   "source": [
    "from sklearn.metrics import precision_recall_fscore_support as score\n",
    "# Find Precision, recall and fscore using precision_recall_fscore_support nethod of sklearn.\n",
    "prec , recal , fscore,_ = score(y_test,yhat,average='binary') \n",
    "\n",
    "print(prec)\n",
    "print(recal)\n",
    "print(fscore)\n"
   ]
  },
  {
   "cell_type": "markdown",
   "metadata": {},
   "source": [
    "You can compare the values of precision, recall and fscore using the methods you wrote and using sklearn method.\n",
    "To match the values of precision, recall and fscore using both methods, you will have to try different values of threshold in your method."
   ]
  },
  {
   "cell_type": "code",
   "execution_count": 38,
   "metadata": {},
   "outputs": [
    {
     "name": "stdout",
     "output_type": "stream",
     "text": [
      "The coefficient: \n",
      "[-0.02516809 -0.02133788 -0.02484815 -0.0201779  -0.01256714 -0.01449245\n",
      " -0.01956382 -0.02695935 -0.01169921  0.01046128 -0.01542431  0.00024279\n",
      " -0.0123276  -0.00774968  0.00643283  0.00385968  0.00524895 -0.00870188\n",
      "  0.00246322  0.00990315 -0.02906634 -0.02542529 -0.02781558 -0.02203831\n",
      " -0.02160774 -0.02143947 -0.02512611 -0.03268383 -0.0227816  -0.01200829]\n",
      "0.6274104675269311\n"
     ]
    }
   ],
   "source": [
    "#ridge regression\n",
    "from sklearn.linear_model import Ridge, RidgeCV\n",
    "from sklearn.metrics import mean_squared_error\n",
    "\n",
    "alphas = 10**np.linspace(10,-2,100)*0.5\n",
    "\n",
    "ridgecv = RidgeCV(alphas = alphas, cv=5)\n",
    "ridgecv.fit(x_train, y_train)\n",
    "\n",
    "ridge = Ridge(alpha = ridgecv.alpha_, normalize = True)\n",
    "ridge.fit(x_train, y_train)\n",
    "\n",
    "print('The coefficient: ')\n",
    "print(ridge.coef_)\n",
    "\n",
    "print(ridge.intercept_)"
   ]
  },
  {
   "cell_type": "code",
   "execution_count": 53,
   "metadata": {},
   "outputs": [
    {
     "name": "stdout",
     "output_type": "stream",
     "text": [
      "[[46  7]\n",
      " [ 0 90]]\n",
      "0.9278350515463918\n",
      "1.0\n",
      "0.9625668449197862\n"
     ]
    }
   ],
   "source": [
    "#Confusion matrix\n",
    "from sklearn.metrics import confusion_matrix\n",
    "\n",
    "yhat = ridge.predict(x_test)\n",
    "new_yhat = np.where(yhat > 0.55, 1, 0)\n",
    "\n",
    "cm = confusion_matrix(y_test, new_yhat)\n",
    "print(cm)\n",
    "\n",
    "prec , recal , fscore,_ = score(y_test,new_yhat,average='binary') \n",
    "\n",
    "print(prec)\n",
    "print(recal)\n",
    "print(fscore)\n"
   ]
  },
  {
   "cell_type": "code",
   "execution_count": null,
   "metadata": {},
   "outputs": [],
   "source": []
  }
 ],
 "metadata": {
  "kernelspec": {
   "display_name": "Python 3",
   "language": "python",
   "name": "python3"
  },
  "language_info": {
   "codemirror_mode": {
    "name": "ipython",
    "version": 3
   },
   "file_extension": ".py",
   "mimetype": "text/x-python",
   "name": "python",
   "nbconvert_exporter": "python",
   "pygments_lexer": "ipython3",
   "version": "3.6.5"
  }
 },
 "nbformat": 4,
 "nbformat_minor": 2
}
