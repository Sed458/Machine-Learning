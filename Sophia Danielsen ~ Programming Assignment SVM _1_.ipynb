{
 "cells": [
  {
   "cell_type": "markdown",
   "metadata": {},
   "source": [
    "# Programming Assignment : SVM\n",
    "In this programming assignment, you would use Support Vector Machines and Logistic Regression\n",
    "for classification problem. We are using Logistic Regression to compare performance of both the algorithms on the same dataset with different values of parameters like type of kernel used, type of regularization techniques used (ridge/lasso) etc."
   ]
  },
  {
   "cell_type": "markdown",
   "metadata": {},
   "source": [
    "Do the assignment carefully, by understanding the structure of the code."
   ]
  },
  {
   "cell_type": "markdown",
   "metadata": {},
   "source": [
    "# Instructions :\n",
    "You have to write a small report in a pdf file. You can use bullet points to discuss your results for every function of the assignment.<br>\n",
    "For example, for data1.csv dataset, write which method gave you the best accuracy using which value of the parameter.<br>\n",
    "Do not write explainations, just discuss your results / observations point to point. \n"
   ]
  },
  {
   "cell_type": "code",
   "execution_count": 171,
   "metadata": {},
   "outputs": [],
   "source": [
    "# Importing the libraries to be used:\n",
    "import numpy as np\n",
    "import pandas as pd\n",
    "from sklearn import linear_model\n",
    "from sklearn import svm\n",
    "import matplotlib.pyplot as plt\n",
    "%matplotlib inline "
   ]
  },
  {
   "cell_type": "markdown",
   "metadata": {},
   "source": [
    "# Importing the dataset:\n",
    "The dataset we are using for this assignment is taken from UCI Machine Learning Repository. The dataset consists of Attributes/Factors that contribute to prediction of Diabetic Retinopathy(DR) in a diabetic patient. Given some predictors, we need to predict the value of target variable i.e. DR or Non-DR case. The dataset is given in the file data1.csv  "
   ]
  },
  {
   "cell_type": "code",
   "execution_count": 172,
   "metadata": {},
   "outputs": [],
   "source": [
    "# Read the file into a pandas data frame.\n",
    "df = pd.read_csv(\"data1.csv\")"
   ]
  },
  {
   "cell_type": "code",
   "execution_count": 173,
   "metadata": {},
   "outputs": [],
   "source": [
    "# There can be some columns which may have missing values. So, we are removing those columns from our dataset.\n",
    "df1 = df.dropna(axis = 1)"
   ]
  },
  {
   "cell_type": "code",
   "execution_count": 174,
   "metadata": {},
   "outputs": [
    {
     "name": "stdout",
     "output_type": "stream",
     "text": [
      "(1151, 20)\n"
     ]
    }
   ],
   "source": [
    "# Converting the df1 data frame into a numpy array named df2. Use values method of dataframes.\n",
    "df2 = df1.values\n",
    "print(df2.shape)"
   ]
  },
  {
   "cell_type": "code",
   "execution_count": 175,
   "metadata": {},
   "outputs": [],
   "source": [
    "# Select all rows and first 19 columns as X from df2.\n",
    "X = df2[:, :19]\n",
    "# Select all rows and last column as Y from df2.\n",
    "Y = df2[:, -1]"
   ]
  },
  {
   "cell_type": "code",
   "execution_count": 176,
   "metadata": {},
   "outputs": [],
   "source": [
    "# Splitting the dataset into training and test data.\n",
    "# Select first 600 rows as training dataset and the remaining rows as test dataset.\n",
    "X_train = X[:600]\n",
    "Y_train = Y[:600]\n",
    "X_test = X[600:]\n",
    "Y_test = Y[600:]"
   ]
  },
  {
   "cell_type": "markdown",
   "metadata": {},
   "source": [
    "# Logistic Regression\n",
    "First we will fit the dataset using a logistic regression model."
   ]
  },
  {
   "cell_type": "markdown",
   "metadata": {},
   "source": [
    "# Logistic Regression with Lasso(L1) Regularization.\n",
    "Read the comments in the below cell carefully.\n",
    "Try different values of parameter C."
   ]
  },
  {
   "cell_type": "code",
   "execution_count": 177,
   "metadata": {},
   "outputs": [],
   "source": [
    "# Initialize an empty list to store values of training set accuracy.\n",
    "acc_train_logreg = [] "
   ]
  },
  {
   "cell_type": "code",
   "execution_count": 178,
   "metadata": {},
   "outputs": [],
   "source": [
    "# Initialize an empty list to store values of test set accuracy.\n",
    "acc_test_logreg = []"
   ]
  },
  {
   "cell_type": "code",
   "execution_count": 179,
   "metadata": {},
   "outputs": [],
   "source": [
    "# Initialize an empty list to store different values of parameter 'c'.\n",
    "c_logreg = []"
   ]
  },
  {
   "cell_type": "code",
   "execution_count": 180,
   "metadata": {},
   "outputs": [],
   "source": [
    "# Complete the function logreg that accepts 'c' as a parameter, which is used to create logreg model \n",
    "# with different values of C.\n",
    "def logreg_model(c , X_train, Y_train, X_test, Y_test):\n",
    "    # Create an object of logistic regression model using linear_model.\n",
    "    # Pass the value of penalty as 'L1'. By default, it is 'L2'.\n",
    "    # Pass the value of C = c. Note that C is the inverse of lambda. So, small value of C i.e. b/w 0 and 1 \n",
    "    # means stronger regularization and large value means less regularization.\n",
    "    # Also, in sklearn, L1 is only supported with solver = 'saga'. Solver is the type of optimization algorithm like GDA or\n",
    "    # SGDA, which is to be used. So, 'saga' is another algorithm like that. Pass the value of solver as 'saga'\n",
    "\n",
    "    logreg = linear_model.LogisticRegression(penalty=\"L1\", C=c, solver=\"saga\")\n",
    "    \n",
    "    # Fit the model on the training set.\n",
    "    logreg.fit(X_train, Y_train)\n",
    "    \n",
    "    # Find the prediction on training set.\n",
    "    Yhat_train = yhat = logreg.predict(X_train)\n",
    "    acc_train = np.mean(Yhat_train == Y_train)\n",
    "    acc_train_logreg.append(acc_train)\n",
    "    print(\"Accuracy on training data = %f\" % acc_train)\n",
    "    \n",
    "    # Find the prediction on test set.\n",
    "    Yhat_test = yhat = logreg.predict(X_test)\n",
    "    acc_test = np.mean(Yhat_test == Y_test)\n",
    "    acc_test_logreg.append(acc_test)\n",
    "    print(\"Accuracy on test data = %f\" % acc_test)\n",
    "    \n",
    "    c_logreg.append(c)"
   ]
  },
  {
   "cell_type": "markdown",
   "metadata": {},
   "source": [
    "# Logistic Regression with Ridge(L2) Regularization."
   ]
  },
  {
   "cell_type": "code",
   "execution_count": 181,
   "metadata": {},
   "outputs": [
    {
     "name": "stdout",
     "output_type": "stream",
     "text": [
      "Accuracy on training data = 0.618333\n",
      "Accuracy on test data = 0.602541\n",
      "Accuracy on training data = 0.718333\n",
      "Accuracy on test data = 0.653358\n",
      "Accuracy on training data = 0.726667\n",
      "Accuracy on test data = 0.673321\n",
      "Accuracy on training data = 0.723333\n",
      "Accuracy on test data = 0.680581\n",
      "Accuracy on training data = 0.723333\n",
      "Accuracy on test data = 0.680581\n",
      "Accuracy on training data = 0.723333\n",
      "Accuracy on test data = 0.680581\n"
     ]
    },
    {
     "name": "stderr",
     "output_type": "stream",
     "text": [
      "/Users/sophia.danielsen/anaconda3/lib/python3.6/site-packages/sklearn/linear_model/sag.py:326: ConvergenceWarning: The max_iter was reached which means the coef_ did not converge\n",
      "  \"the coef_ did not converge\", ConvergenceWarning)\n"
     ]
    },
    {
     "name": "stdout",
     "output_type": "stream",
     "text": [
      "Accuracy on training data = 0.723333\n",
      "Accuracy on test data = 0.680581\n"
     ]
    },
    {
     "data": {
      "text/plain": [
       "Text(0,0.5,'test accuracy')"
      ]
     },
     "execution_count": 181,
     "metadata": {},
     "output_type": "execute_result"
    },
    {
     "data": {
      "image/png": "[encoded data removed]",
      "text/plain": [
       "<Figure size 432x288 with 2 Axes>"
      ]
     },
     "metadata": {},
     "output_type": "display_data"
    }
   ],
   "source": [
    "# Call the above function i.e. logreg_model with different values of parameter 'c'.\n",
    "# Start with smaller values of 'c' say 0.0001, 0.001, 0.01, 0.1, 1, 10, 100\n",
    "c = [0.0001, 0.001, 0.01, 0.1, 1, 10, 100]\n",
    "\n",
    "for val in c:\n",
    "    logreg_model(val , X_train, Y_train, X_test, Y_test)\n",
    "    \n",
    "# Write code to plot 2 plots.\n",
    "# Plot training accuracy(Y-axis) v/s 'c' on X - Axis.\n",
    "# Plot test accuracy(Y-Axis) v/s 'c' on X - Axis.\n",
    "plt.subplot(1, 2, 1)\n",
    "plt.plot(np.log10(c_logreg),acc_train_logreg)\n",
    "plt.grid()\n",
    "plt.xlabel('c')\n",
    "plt.ylabel('training accuracy')\n",
    "\n",
    "plt.subplot(1, 2, 2)\n",
    "plt.plot(np.log10(c_logreg),acc_test_logreg)\n",
    "plt.grid()\n",
    "plt.xlabel('c')\n",
    "plt.ylabel('test accuracy')"
   ]
  },
  {
   "cell_type": "code",
   "execution_count": 182,
   "metadata": {},
   "outputs": [],
   "source": [
    "# Initialize an empty list to store values of training set accuracy.\n",
    "acc_train_logreg2 = []"
   ]
  },
  {
   "cell_type": "code",
   "execution_count": 183,
   "metadata": {},
   "outputs": [],
   "source": [
    "# Initialize an empty list to store values of test set accuracy.\n",
    "acc_test_logreg2 = []"
   ]
  },
  {
   "cell_type": "code",
   "execution_count": 184,
   "metadata": {},
   "outputs": [],
   "source": [
    "# Initialize an empty list to store different values of parameter 'c'.\n",
    "c_logreg2 = []"
   ]
  },
  {
   "cell_type": "code",
   "execution_count": 185,
   "metadata": {},
   "outputs": [],
   "source": [
    "def logreg2_model(c , X_train, Y_train, X_test, Y_test):\n",
    "    # Create an object of logistic regression model using linear_model.\n",
    "    # Pass the value of C=c.\n",
    "    # You need not pass other parameters as penalty is 'L2' by default.\n",
    "    \n",
    "    logreg2 =linear_model.LogisticRegression(C=c)\n",
    "    \n",
    "    # Fit the model on the training set.\n",
    "    logreg2.fit(X_train, Y_train)\n",
    "    \n",
    "    # Find the prediction on training set.\n",
    "    Yhat_train = logreg2.predict(X_train)\n",
    "    acc_train = np.mean(Yhat_train == Y_train)\n",
    "    acc_train_logreg2.append(acc_train)\n",
    "    print(\"Accuracy on training data = %f\" % acc_train)\n",
    "    \n",
    "    # Find the prediction and accuracy on test set.\n",
    "    Yhat_test = logreg2.predict(X_test)\n",
    "    acc_test = np.mean(Yhat_test == Y_test)\n",
    "    acc_test_logreg2.append(acc_test)\n",
    "    print(\"Accuracy on test data = %f\" % acc_test)\n",
    "    \n",
    "    c_logreg2.append(c)\n",
    "    "
   ]
  },
  {
   "cell_type": "code",
   "execution_count": 186,
   "metadata": {},
   "outputs": [
    {
     "name": "stdout",
     "output_type": "stream",
     "text": [
      "Accuracy on training data = 0.616667\n",
      "Accuracy on test data = 0.604356\n",
      "Accuracy on training data = 0.718333\n",
      "Accuracy on test data = 0.658802\n",
      "Accuracy on training data = 0.733333\n",
      "Accuracy on test data = 0.725953\n",
      "Accuracy on training data = 0.741667\n",
      "Accuracy on test data = 0.744102\n",
      "Accuracy on training data = 0.748333\n",
      "Accuracy on test data = 0.751361\n",
      "Accuracy on training data = 0.741667\n",
      "Accuracy on test data = 0.753176\n",
      "Accuracy on training data = 0.741667\n",
      "Accuracy on test data = 0.756806\n"
     ]
    },
    {
     "data": {
      "text/plain": [
       "Text(0,0.5,'test accuracy')"
      ]
     },
     "execution_count": 186,
     "metadata": {},
     "output_type": "execute_result"
    },
    {
     "data": {
      "image/png": "[encoded data removed]",
      "text/plain": [
       "<Figure size 432x288 with 2 Axes>"
      ]
     },
     "metadata": {},
     "output_type": "display_data"
    }
   ],
   "source": [
    "# Call the above function i.e. logreg2_model with different values of parameter 'c'.\n",
    "# Start with smaller values of 'c' say 0.0001, 0.001, 0.01, 0.1, 1, 10, 100\n",
    "\n",
    "for val in c:\n",
    "    logreg2_model(val , X_train, Y_train, X_test, Y_test)\n",
    "    \n",
    "# Write code to plot 2 plots.\n",
    "# Plot training accuracy(Y-axis) v/s 'c' on X - Axis.\n",
    "# Plot test accuracy(Y-Axis) v/s 'c' on X - Axis.\n",
    "plt.subplot(1, 2, 1)\n",
    "plt.plot(np.log10(c_logreg2),acc_train_logreg2)\n",
    "plt.grid()\n",
    "plt.xlabel('c')\n",
    "plt.ylabel('training accuracy')\n",
    "\n",
    "plt.subplot(1, 2, 2)\n",
    "plt.plot(np.log10(c_logreg2),acc_test_logreg2)\n",
    "plt.grid()\n",
    "plt.xlabel('c')\n",
    "plt.ylabel('test accuracy')"
   ]
  },
  {
   "cell_type": "markdown",
   "metadata": {},
   "source": [
    "# Logistic Regression Using Polynomial Feature Transformation\n",
    "Refer the given link to know how we can transform features.<br>\n",
    "http://scikit-learn.org/stable/modules/generated/sklearn.preprocessing.PolynomialFeatures.html"
   ]
  },
  {
   "cell_type": "code",
   "execution_count": 187,
   "metadata": {},
   "outputs": [],
   "source": [
    "from sklearn.preprocessing import PolynomialFeatures"
   ]
  },
  {
   "cell_type": "code",
   "execution_count": 188,
   "metadata": {},
   "outputs": [],
   "source": [
    "# Create an object of PolynomialFeatures(2):\n",
    "poly = PolynomialFeatures(2)"
   ]
  },
  {
   "cell_type": "code",
   "execution_count": 189,
   "metadata": {},
   "outputs": [],
   "source": [
    "# Create the transformed data matrices for training and test using poly.fit_transform(..)\n",
    "X_transformed_train = poly.fit_transform(X_train, Y_train)\n",
    "X_transformed_test = poly.fit_transform(X_test, Y_test)"
   ]
  },
  {
   "cell_type": "code",
   "execution_count": 190,
   "metadata": {},
   "outputs": [
    {
     "data": {
      "text/plain": [
       "(551, 210)"
      ]
     },
     "execution_count": 190,
     "metadata": {},
     "output_type": "execute_result"
    }
   ],
   "source": [
    "# Check the shapes of the new matrices.\n",
    "# Originally, we had 19 features.\n",
    "X_transformed_train.shape\n",
    "X_transformed_test.shape"
   ]
  },
  {
   "cell_type": "code",
   "execution_count": 191,
   "metadata": {},
   "outputs": [
    {
     "name": "stderr",
     "output_type": "stream",
     "text": [
      "/Users/sophia.danielsen/anaconda3/lib/python3.6/site-packages/sklearn/linear_model/sag.py:326: ConvergenceWarning: The max_iter was reached which means the coef_ did not converge\n",
      "  \"the coef_ did not converge\", ConvergenceWarning)\n"
     ]
    },
    {
     "name": "stdout",
     "output_type": "stream",
     "text": [
      "Accuracy on training data = 0.691667\n",
      "Accuracy on test data = 0.646098\n",
      "Accuracy on training data = 0.691667\n",
      "Accuracy on test data = 0.646098\n",
      "Accuracy on training data = 0.693333\n",
      "Accuracy on test data = 0.646098\n",
      "Accuracy on training data = 0.693333\n",
      "Accuracy on test data = 0.646098\n",
      "Accuracy on training data = 0.693333\n",
      "Accuracy on test data = 0.646098\n",
      "Accuracy on training data = 0.695000\n",
      "Accuracy on test data = 0.646098\n",
      "Accuracy on training data = 0.691667\n",
      "Accuracy on test data = 0.646098\n"
     ]
    },
    {
     "data": {
      "text/plain": [
       "Text(0,0.5,'test accuracy')"
      ]
     },
     "execution_count": 191,
     "metadata": {},
     "output_type": "execute_result"
    },
    {
     "data": {
      "image/png": "[encoded data removed]",
      "text/plain": [
       "<Figure size 432x288 with 2 Axes>"
      ]
     },
     "metadata": {},
     "output_type": "display_data"
    }
   ],
   "source": [
    "# Calling the logreg_model(..) using transformed features.\n",
    "# Pass c, X_transformed_train , Y_train, X_transformed_test, Y_test\n",
    "# Before calling the function, we need to re-initialize the 3 lists in which we append the \n",
    "# results (accuracy) because these lists are global variables.\n",
    "\n",
    "acc_train_logreg = []\n",
    "acc_test_logreg = []\n",
    "c_logreg = []\n",
    "\n",
    "# Call the function logreg_model.\n",
    "for val in c:\n",
    "    logreg_model(val , X_transformed_train, Y_train, X_transformed_test, Y_test)\n",
    "    \n",
    "# Write code to plot 2 plots.\n",
    "# Plot training accuracy(Y-axis) v/s 'c' on X - Axis.\n",
    "# Plot test accuracy(Y-Axis) v/s 'c' on X - Axis.\n",
    "plt.subplot(1, 2, 1)\n",
    "plt.plot(np.log10(c_logreg),acc_train_logreg)\n",
    "plt.grid()\n",
    "plt.xlabel('c')\n",
    "plt.ylabel('training accuracy')\n",
    "\n",
    "plt.subplot(1, 2, 2)\n",
    "plt.plot(np.log10(c_logreg),acc_test_logreg)\n",
    "plt.grid()\n",
    "plt.xlabel('c')\n",
    "plt.ylabel('test accuracy')"
   ]
  },
  {
   "cell_type": "code",
   "execution_count": 192,
   "metadata": {},
   "outputs": [
    {
     "name": "stdout",
     "output_type": "stream",
     "text": [
      "Accuracy on training data = 0.768333\n",
      "Accuracy on test data = 0.745917\n",
      "Accuracy on training data = 0.790000\n",
      "Accuracy on test data = 0.735027\n",
      "Accuracy on training data = 0.813333\n",
      "Accuracy on test data = 0.742287\n",
      "Accuracy on training data = 0.830000\n",
      "Accuracy on test data = 0.727768\n",
      "Accuracy on training data = 0.828333\n",
      "Accuracy on test data = 0.720508\n",
      "Accuracy on training data = 0.840000\n",
      "Accuracy on test data = 0.709619\n",
      "Accuracy on training data = 0.831667\n",
      "Accuracy on test data = 0.724138\n"
     ]
    },
    {
     "data": {
      "text/plain": [
       "Text(0,0.5,'test accuracy')"
      ]
     },
     "execution_count": 192,
     "metadata": {},
     "output_type": "execute_result"
    },
    {
     "data": {
      "image/png": "[encoded data removed]",
      "text/plain": [
       "<Figure size 432x288 with 2 Axes>"
      ]
     },
     "metadata": {},
     "output_type": "display_data"
    }
   ],
   "source": [
    "# Calling the logreg2_model(..) using transformed features.\n",
    "# Pass c, X_transformed_train , Y_train, X_transformed_test, Y_test\n",
    "# Before calling the function, we need to re-initialize the 3 lists in which we append the \n",
    "# results (accuracy) beacause these list are global varibles.\n",
    "acc_train_logreg2 = []\n",
    "acc_test_logreg2 = []\n",
    "c_logreg2 = []\n",
    "# Call the function logreg2_model.\n",
    "for val in c:\n",
    "    logreg2_model(val , X_transformed_train, Y_train, X_transformed_test, Y_test)\n",
    "    \n",
    "# Write code to plot 2 plots.\n",
    "# Plot training accuracy(Y-axis) v/s 'c' on X - Axis.\n",
    "# Plot test accuracy(Y-Axis) v/s 'c' on X - Axis.\n",
    "plt.subplot(1, 2, 1)\n",
    "plt.plot(np.log10(c_logreg2),acc_train_logreg2)\n",
    "plt.grid()\n",
    "plt.xlabel('c')\n",
    "plt.ylabel('training accuracy')\n",
    "\n",
    "plt.subplot(1, 2, 2)\n",
    "plt.plot(np.log10(c_logreg2),acc_test_logreg2)\n",
    "plt.grid()\n",
    "plt.xlabel('c')\n",
    "plt.ylabel('test accuracy')"
   ]
  },
  {
   "cell_type": "markdown",
   "metadata": {},
   "source": [
    "# Note:\n",
    "<u>Do not</u> use these transformed features for the further part of the assignment. Use the X_train, Y_train, X_test and Y_test matrices."
   ]
  },
  {
   "cell_type": "markdown",
   "metadata": {},
   "source": [
    "# Support Vector Machines (SVM)\n",
    "Now we will use the same dataset and try to find a classifier using SVM.\n",
    "For more information about svm classifier, check the given link.\n",
    "http://scikit-learn.org/stable/modules/generated/sklearn.svm.SVC.html"
   ]
  },
  {
   "cell_type": "markdown",
   "metadata": {},
   "source": [
    "# SVM using Linear Kernel."
   ]
  },
  {
   "cell_type": "code",
   "execution_count": 193,
   "metadata": {},
   "outputs": [],
   "source": [
    "acc_train_svm_linear = []"
   ]
  },
  {
   "cell_type": "code",
   "execution_count": 194,
   "metadata": {},
   "outputs": [],
   "source": [
    "acc_test_svm_linear = []"
   ]
  },
  {
   "cell_type": "code",
   "execution_count": 195,
   "metadata": {},
   "outputs": [],
   "source": [
    "c_svm_linear = []"
   ]
  },
  {
   "cell_type": "code",
   "execution_count": 196,
   "metadata": {},
   "outputs": [],
   "source": [
    "# Complete the function below:\n",
    "# In this function and next 2 functions, we are not passing the data matrices as parameters \n",
    "# because we can use global variables inside the functions.\n",
    "def svm_linear(c):\n",
    "    # Create an object of svm.SVC(probability = False, kernel = 'linear', C = c).\n",
    "    svc = svm.SVC(probability = False, kernel = 'linear', C = c)\n",
    "    \n",
    "    # Fit the classifier on the training set.\n",
    "    svc.fit(X_train, Y_train)\n",
    "    \n",
    "    # Find the prediction and accuracy on the training set.\n",
    "    Yhat_svc_linear_train = svc.predict(X_train)\n",
    "    acc_train = np.mean(Yhat_svc_linear_train == Y_train)\n",
    "    acc_train_svm_linear.append(acc_train)\n",
    "    print('Accuracy Training = {0:f}'.format(acc_train))\n",
    "    \n",
    "    # Find the prediction and accuracy on the test set.\n",
    "    Yhat_svc_linear_test = svc.predict(X_test)\n",
    "    acc_test = np.mean(Yhat_svc_linear_test == Y_test)\n",
    "    acc_test_svm_linear.append(acc_test)\n",
    "    print('Accuracy Test = {0:f}'.format(acc_test))\n",
    "    \n",
    "    c_svm_linear.append(c)\n",
    "    "
   ]
  },
  {
   "cell_type": "code",
   "execution_count": 200,
   "metadata": {},
   "outputs": [
    {
     "name": "stdout",
     "output_type": "stream",
     "text": [
      "Accuracy Training = 0.681667\n",
      "Accuracy Test = 0.635209\n",
      "Accuracy Training = 0.718333\n",
      "Accuracy Test = 0.689655\n",
      "Accuracy Training = 0.720000\n",
      "Accuracy Test = 0.747731\n",
      "Accuracy Training = 0.741667\n",
      "Accuracy Test = 0.756806\n",
      "Accuracy Training = 0.738333\n",
      "Accuracy Test = 0.745917\n",
      "Accuracy Training = 0.743333\n",
      "Accuracy Test = 0.744102\n"
     ]
    },
    {
     "data": {
      "text/plain": [
       "Text(0,0.5,'test accuracy')"
      ]
     },
     "execution_count": 200,
     "metadata": {},
     "output_type": "execute_result"
    },
    {
     "data": {
      "image/png": "[encoded data removed]",
      "text/plain": [
       "<Figure size 432x288 with 2 Axes>"
      ]
     },
     "metadata": {},
     "output_type": "display_data"
    }
   ],
   "source": [
    "# Call the above function i.e. svm_linear with different values of parameter 'c'.\n",
    "# Start with smaller values of 'c' say 0.0001, 0.001, 0.01, 0.1, 1, 10, 100\n",
    "c = [0.0001, 0.001, 0.01, 0.1, 1, 10]\n",
    "\n",
    "for val in c:\n",
    "    svm_linear(val)\n",
    "    \n",
    "# Write code to plot 2 plots.\n",
    "# Plot training accuracy(Y-axis) v/s 'c' on X - Axis.\n",
    "# Plot test accuracy(Y-Axis) v/s 'c' on X - Axis.\n",
    "plt.subplot(1, 2, 1)\n",
    "plt.plot(np.log10(c_svm_linear),acc_train_svm_linear)\n",
    "plt.grid()\n",
    "plt.xlabel('c')\n",
    "plt.ylabel('training accuracy')\n",
    "\n",
    "plt.subplot(1, 2, 2)\n",
    "plt.plot(np.log10(c_svm_linear),acc_test_svm_linear)\n",
    "plt.grid()\n",
    "plt.xlabel('c')\n",
    "plt.ylabel('test accuracy')"
   ]
  },
  {
   "cell_type": "markdown",
   "metadata": {},
   "source": [
    "Change the value of parameter C above and see the difference in the results."
   ]
  },
  {
   "cell_type": "markdown",
   "metadata": {},
   "source": [
    "# SVM using Radial Basis Function(RBF) Kernel."
   ]
  },
  {
   "cell_type": "code",
   "execution_count": 201,
   "metadata": {},
   "outputs": [],
   "source": [
    "# Complete the function below.\n",
    "# g is the value of gamma. \n",
    "def svm_rbf(c, g):\n",
    "    # Create an object of svm classifier using svm.SVC()\n",
    "    # Pass probability = False, kernel = 'rbf', value of C = c and rbf paramter gamma = g.\n",
    "    svc_rbf = svm.SVC(probability = False, kernel = 'rbf', C = c, gamma = g)\n",
    "    \n",
    "    # Fit the classifier on the training set.\n",
    "    svc_rbf.fit(X_train, Y_train)\n",
    "    \n",
    "    # Find the prediction and accuracy on the training set.\n",
    "    Yhat_svc_rbf_train = svc_rbf.predict(X_train)\n",
    "    acc = np.mean(Yhat_svc_rbf_train == Y_train)\n",
    "    print('Accuracy Training = {0:f}'.format(acc))\n",
    "    \n",
    "    # Find the prediction and accuracy on the test set.\n",
    "    Yhat_svc_rbf_test = svc_rbf.predict(X_test)\n",
    "    acc = np.mean(Yhat_svc_rbf_test == Y_test)\n",
    "    print('Accuracy Test= {0:f}'.format(acc))\n",
    "  "
   ]
  },
  {
   "cell_type": "code",
   "execution_count": 202,
   "metadata": {},
   "outputs": [
    {
     "name": "stdout",
     "output_type": "stream",
     "text": [
      "Accuracy Training = 0.543333\n",
      "Accuracy Test= 0.517241\n",
      "Accuracy Training = 0.543333\n",
      "Accuracy Test= 0.517241\n",
      "Accuracy Training = 0.543333\n",
      "Accuracy Test= 0.517241\n",
      "Accuracy Training = 0.685000\n",
      "Accuracy Test= 0.642468\n",
      "Accuracy Training = 0.761667\n",
      "Accuracy Test= 0.669691\n",
      "Accuracy Training = 0.846667\n",
      "Accuracy Test= 0.678766\n"
     ]
    }
   ],
   "source": [
    "# Call the above function i.e. svm_rbf with different values of parameter 'c' and 'g'.\n",
    "# Start with smaller values of 'c' say 0.0001, 0.001, 0.01, 0.1, 1, 10, 100\n",
    "for val in c:\n",
    "    svm_rbf(val, 0.001)"
   ]
  },
  {
   "cell_type": "markdown",
   "metadata": {},
   "source": [
    "Change the value of parameter C and gamma above and see the difference in the results. "
   ]
  },
  {
   "cell_type": "markdown",
   "metadata": {},
   "source": [
    "# SVM using Polynomial Kernel.\n",
    "Note: SVM with polynomial kernel can be sometimes very slow. If that is the case, use smaller size of training set. Instead of all 600 training examples, use less (say 300)."
   ]
  },
  {
   "cell_type": "code",
   "execution_count": 95,
   "metadata": {},
   "outputs": [],
   "source": [
    "acc_train_svm_poly = []"
   ]
  },
  {
   "cell_type": "code",
   "execution_count": 96,
   "metadata": {},
   "outputs": [],
   "source": [
    "acc_test_svm_poly = []"
   ]
  },
  {
   "cell_type": "code",
   "execution_count": 97,
   "metadata": {},
   "outputs": [],
   "source": [
    "c_svm_poly = []"
   ]
  },
  {
   "cell_type": "code",
   "execution_count": 98,
   "metadata": {},
   "outputs": [],
   "source": [
    "def svm_polynomial(c):\n",
    "    # Create an object of svm classifier using svm.SVC()\n",
    "    # Pass probability = False, kernel = 'poly' , value of C = c.\n",
    "    svc_polynomial = svm.SVC(probability = False, kernel = 'poly' , C = c)\n",
    "    \n",
    "    A = X_train[0:300,:]  # First 300 rows of training set.\n",
    "    B = Y_train[0:300]  \n",
    "    C = X_test[0:100,:]   # First 100 rows of test set.\n",
    "    D = Y_test[0:100]\n",
    "    \n",
    "    # Fit the classifier on the training set.\n",
    "    # Use A and B to train and C and D to test.\n",
    "    svc_polynomial.fit(A, B)\n",
    "    \n",
    "    # Find the prediction and accuracy on the training set.\n",
    "    Yhat_svc_polynomial_train = svc_polynomial.predict(A)\n",
    "    acc_train = np.mean(Yhat_svc_polynomial_train == B)\n",
    "    acc_train_svm_poly.append(acc_train)\n",
    "    print('Accuracy Training = {0:f}'.format(acc_train))\n",
    "    \n",
    "    # Find the prediction and accuracy on the test set.\n",
    "    Yhat_svc_polynomial_test = svc_polynomial.predict(C)\n",
    "    acc_test = np.mean(Yhat_svc_polynomial_test == D)\n",
    "    acc_test_svm_poly.append(acc_test)\n",
    "    print('Accuracy Test = {0:f}'.format(acc_test))\n",
    "    \n",
    "    c_svm_poly.append(c)\n",
    "    "
   ]
  },
  {
   "cell_type": "code",
   "execution_count": 65,
   "metadata": {},
   "outputs": [
    {
     "name": "stdout",
     "output_type": "stream",
     "text": [
      "Accuracy Training = 0.840000\n",
      "Accuracy Test = 0.690000\n",
      "Accuracy Training = 0.873333\n",
      "Accuracy Test = 0.640000\n",
      "Accuracy Training = 0.913333\n",
      "Accuracy Test = 0.690000\n"
     ]
    },
    {
     "ename": "KeyboardInterrupt",
     "evalue": "",
     "output_type": "error",
     "traceback": [
      "\u001b[0;31m---------------------------------------------------------------------------\u001b[0m",
      "\u001b[0;31mKeyboardInterrupt\u001b[0m                         Traceback (most recent call last)",
      "\u001b[0;32m<ipython-input-65-c5b1e54b4d28>\u001b[0m in \u001b[0;36m<module>\u001b[0;34m()\u001b[0m\n\u001b[1;32m      2\u001b[0m \u001b[0;31m# Start with smaller values of 'c' say 0.0001, 0.001, 0.01, 0.1, 1, 10, 100\u001b[0m\u001b[0;34m\u001b[0m\u001b[0;34m\u001b[0m\u001b[0m\n\u001b[1;32m      3\u001b[0m \u001b[0;32mfor\u001b[0m \u001b[0mval\u001b[0m \u001b[0;32min\u001b[0m \u001b[0mc\u001b[0m\u001b[0;34m:\u001b[0m\u001b[0;34m\u001b[0m\u001b[0m\n\u001b[0;32m----> 4\u001b[0;31m     \u001b[0msvm_polynomial\u001b[0m\u001b[0;34m(\u001b[0m\u001b[0mval\u001b[0m\u001b[0;34m)\u001b[0m\u001b[0;34m\u001b[0m\u001b[0m\n\u001b[0m\u001b[1;32m      5\u001b[0m \u001b[0;31m# Write code to plot 2 plots.\u001b[0m\u001b[0;34m\u001b[0m\u001b[0;34m\u001b[0m\u001b[0m\n\u001b[1;32m      6\u001b[0m \u001b[0;31m# Plot training accuracy(Y-axis) v/s 'c' on X - Axis.\u001b[0m\u001b[0;34m\u001b[0m\u001b[0;34m\u001b[0m\u001b[0m\n",
      "\u001b[0;32m<ipython-input-64-6598e066803b>\u001b[0m in \u001b[0;36msvm_polynomial\u001b[0;34m(c)\u001b[0m\n\u001b[1;32m     11\u001b[0m     \u001b[0;31m# Fit the classifier on the training set.\u001b[0m\u001b[0;34m\u001b[0m\u001b[0;34m\u001b[0m\u001b[0m\n\u001b[1;32m     12\u001b[0m     \u001b[0;31m# Use A and B to train and C and D to test.\u001b[0m\u001b[0;34m\u001b[0m\u001b[0;34m\u001b[0m\u001b[0m\n\u001b[0;32m---> 13\u001b[0;31m     \u001b[0msvc_polynomial\u001b[0m\u001b[0;34m.\u001b[0m\u001b[0mfit\u001b[0m\u001b[0;34m(\u001b[0m\u001b[0mA\u001b[0m\u001b[0;34m,\u001b[0m \u001b[0mB\u001b[0m\u001b[0;34m)\u001b[0m\u001b[0;34m\u001b[0m\u001b[0m\n\u001b[0m\u001b[1;32m     14\u001b[0m \u001b[0;34m\u001b[0m\u001b[0m\n\u001b[1;32m     15\u001b[0m     \u001b[0;31m# Find the prediction and accuracy on the training set.\u001b[0m\u001b[0;34m\u001b[0m\u001b[0;34m\u001b[0m\u001b[0m\n",
      "\u001b[0;32m~/anaconda3/lib/python3.6/site-packages/sklearn/svm/base.py\u001b[0m in \u001b[0;36mfit\u001b[0;34m(self, X, y, sample_weight)\u001b[0m\n\u001b[1;32m    185\u001b[0m \u001b[0;34m\u001b[0m\u001b[0m\n\u001b[1;32m    186\u001b[0m         \u001b[0mseed\u001b[0m \u001b[0;34m=\u001b[0m \u001b[0mrnd\u001b[0m\u001b[0;34m.\u001b[0m\u001b[0mrandint\u001b[0m\u001b[0;34m(\u001b[0m\u001b[0mnp\u001b[0m\u001b[0;34m.\u001b[0m\u001b[0miinfo\u001b[0m\u001b[0;34m(\u001b[0m\u001b[0;34m'i'\u001b[0m\u001b[0;34m)\u001b[0m\u001b[0;34m.\u001b[0m\u001b[0mmax\u001b[0m\u001b[0;34m)\u001b[0m\u001b[0;34m\u001b[0m\u001b[0m\n\u001b[0;32m--> 187\u001b[0;31m         \u001b[0mfit\u001b[0m\u001b[0;34m(\u001b[0m\u001b[0mX\u001b[0m\u001b[0;34m,\u001b[0m \u001b[0my\u001b[0m\u001b[0;34m,\u001b[0m \u001b[0msample_weight\u001b[0m\u001b[0;34m,\u001b[0m \u001b[0msolver_type\u001b[0m\u001b[0;34m,\u001b[0m \u001b[0mkernel\u001b[0m\u001b[0;34m,\u001b[0m \u001b[0mrandom_seed\u001b[0m\u001b[0;34m=\u001b[0m\u001b[0mseed\u001b[0m\u001b[0;34m)\u001b[0m\u001b[0;34m\u001b[0m\u001b[0m\n\u001b[0m\u001b[1;32m    188\u001b[0m         \u001b[0;31m# see comment on the other call to np.iinfo in this file\u001b[0m\u001b[0;34m\u001b[0m\u001b[0;34m\u001b[0m\u001b[0m\n\u001b[1;32m    189\u001b[0m \u001b[0;34m\u001b[0m\u001b[0m\n",
      "\u001b[0;32m~/anaconda3/lib/python3.6/site-packages/sklearn/svm/base.py\u001b[0m in \u001b[0;36m_dense_fit\u001b[0;34m(self, X, y, sample_weight, solver_type, kernel, random_seed)\u001b[0m\n\u001b[1;32m    252\u001b[0m                 \u001b[0mcache_size\u001b[0m\u001b[0;34m=\u001b[0m\u001b[0mself\u001b[0m\u001b[0;34m.\u001b[0m\u001b[0mcache_size\u001b[0m\u001b[0;34m,\u001b[0m \u001b[0mcoef0\u001b[0m\u001b[0;34m=\u001b[0m\u001b[0mself\u001b[0m\u001b[0;34m.\u001b[0m\u001b[0mcoef0\u001b[0m\u001b[0;34m,\u001b[0m\u001b[0;34m\u001b[0m\u001b[0m\n\u001b[1;32m    253\u001b[0m                 \u001b[0mgamma\u001b[0m\u001b[0;34m=\u001b[0m\u001b[0mself\u001b[0m\u001b[0;34m.\u001b[0m\u001b[0m_gamma\u001b[0m\u001b[0;34m,\u001b[0m \u001b[0mepsilon\u001b[0m\u001b[0;34m=\u001b[0m\u001b[0mself\u001b[0m\u001b[0;34m.\u001b[0m\u001b[0mepsilon\u001b[0m\u001b[0;34m,\u001b[0m\u001b[0;34m\u001b[0m\u001b[0m\n\u001b[0;32m--> 254\u001b[0;31m                 max_iter=self.max_iter, random_seed=random_seed)\n\u001b[0m\u001b[1;32m    255\u001b[0m \u001b[0;34m\u001b[0m\u001b[0m\n\u001b[1;32m    256\u001b[0m         \u001b[0mself\u001b[0m\u001b[0;34m.\u001b[0m\u001b[0m_warn_from_fit_status\u001b[0m\u001b[0;34m(\u001b[0m\u001b[0;34m)\u001b[0m\u001b[0;34m\u001b[0m\u001b[0m\n",
      "\u001b[0;31mKeyboardInterrupt\u001b[0m: "
     ]
    }
   ],
   "source": [
    "# Call the above function i.e. svm_poly with different values of parameter 'c'.\n",
    "# Start with smaller values of 'c' say 0.0001, 0.001, 0.01, 0.1, 1, 10, 100\n",
    "for val in c:\n",
    "    svm_polynomial(val)\n",
    "# Write code to plot 2 plots.\n",
    "# Plot training accuracy(Y-axis) v/s 'c' on X - Axis.\n",
    "# Plot test accuracy(Y-Axis) v/s 'c' on X - Axis.\n",
    "plt.subplot(1, 2, 1)\n",
    "plt.plot(np.log10(c_svm_poly),acc_train_svm_poly)\n",
    "plt.grid()\n",
    "plt.xlabel('c')\n",
    "plt.ylabel('training accuracy')\n",
    "\n",
    "plt.subplot(1, 2, 2)\n",
    "plt.plot(np.log10(c_svm_poly),acc_test_svm_poly)\n",
    "plt.grid()\n",
    "plt.xlabel('c')\n",
    "plt.ylabel('test accuracy')"
   ]
  },
  {
   "cell_type": "markdown",
   "metadata": {},
   "source": [
    "Change the value of parameter C and see the difference in the results."
   ]
  },
  {
   "cell_type": "markdown",
   "metadata": {},
   "source": [
    "# Repeating the Assignment with 2 more Datasets:\n",
    "1) Cryotherapy.csv (Predict result of treatment using 6 predictors).\n",
    "https://archive.ics.uci.edu/ml/datasets/Cryotherapy+Dataset+<br>\n",
    "2) Immunotherapy.csv (Predict result of treatment using 7 predictors).\n",
    "https://archive.ics.uci.edu/ml/datasets/Immunotherapy+Dataset <br>\n",
    "You have to repeat the full assignment with 2 more different datasets. You have to write a small report in a pdf file. You can use bullet points to discuss your results for every function of the assignment.<br>\n",
    "For example, for data1.csv dataset, write which method gave you the best accuracy using which value of the parameter.<br>\n",
    "You have to write this for all the 3 datasets in a single pdf file. \n",
    "Do not write explainations, just discuss your results / observations point to point. "
   ]
  },
  {
   "cell_type": "code",
   "execution_count": 151,
   "metadata": {},
   "outputs": [
    {
     "name": "stdout",
     "output_type": "stream",
     "text": [
      "(90, 7)\n"
     ]
    }
   ],
   "source": [
    "# Read the file into a pandas data frame.\n",
    "df = pd.read_csv(\"Cryotherapy.csv\")\n",
    "\n",
    "# There can be some columns which may have missing values. So, we are removing those columns from our dataset.\n",
    "df1 = df.dropna(axis = 1)\n",
    "\n",
    "# Converting the df1 data frame into a numpy array named df2. Use values method of dataframes.\n",
    "df2 = df1.values\n",
    "\n",
    "print(df2.shape) \n",
    "\n",
    "# Select all rows and first 19 columns as X from df2.\n",
    "X = df2[:, :6]\n",
    "# Select all rows and last column as Y from df2.\n",
    "Y = df2[:, -1]\n",
    "\n",
    "# Splitting the dataset into training and test data.\n",
    "# Select first 600 rows as training dataset and the remaining rows as test dataset.\n",
    "X_train = X[:40]\n",
    "Y_train = Y[:40]\n",
    "X_test = X[40:]\n",
    "Y_test = Y[40:]"
   ]
  },
  {
   "cell_type": "code",
   "execution_count": 152,
   "metadata": {},
   "outputs": [
    {
     "name": "stdout",
     "output_type": "stream",
     "text": [
      "Accuracy on training data = 0.525000\n",
      "Accuracy on test data = 0.420000\n",
      "Accuracy on training data = 0.525000\n",
      "Accuracy on test data = 0.420000\n",
      "Accuracy on training data = 0.525000\n",
      "Accuracy on test data = 0.420000\n",
      "Accuracy on training data = 0.525000\n",
      "Accuracy on test data = 0.420000\n",
      "Accuracy on training data = 0.525000\n",
      "Accuracy on test data = 0.420000\n",
      "Accuracy on training data = 0.525000\n",
      "Accuracy on test data = 0.420000\n"
     ]
    },
    {
     "name": "stderr",
     "output_type": "stream",
     "text": [
      "/Users/sophia.danielsen/anaconda3/lib/python3.6/site-packages/sklearn/linear_model/sag.py:326: ConvergenceWarning: The max_iter was reached which means the coef_ did not converge\n",
      "  \"the coef_ did not converge\", ConvergenceWarning)\n"
     ]
    },
    {
     "data": {
      "text/plain": [
       "Text(0,0.5,'test accuracy')"
      ]
     },
     "execution_count": 152,
     "metadata": {},
     "output_type": "execute_result"
    },
    {
     "data": {
      "image/png": "[encoded data removed]",
      "text/plain": [
       "<Figure size 432x288 with 2 Axes>"
      ]
     },
     "metadata": {},
     "output_type": "display_data"
    }
   ],
   "source": [
    "c = [0.0001, 0.001, 0.01, 0.1, 1, 10]\n",
    "\n",
    "# Initialize an empty list to store values of training set accuracy.\n",
    "acc_train_logreg = [] \n",
    "\n",
    "# Initialize an empty list to store values of test set accuracy.\n",
    "acc_test_logreg = []\n",
    "\n",
    "# Initialize an empty list to store different values of parameter 'c'.\n",
    "c_logreg = []\n",
    "\n",
    "for val in c:\n",
    "    logreg_model(val , X_train, Y_train, X_test, Y_test)\n",
    "    \n",
    "# Write code to plot 2 plots.\n",
    "# Plot training accuracy(Y-axis) v/s 'c' on X - Axis.\n",
    "# Plot test accuracy(Y-Axis) v/s 'c' on X - Axis.\n",
    "plt.subplot(1, 2, 1)\n",
    "plt.plot(np.log10(c_logreg),acc_train_logreg)\n",
    "plt.grid()\n",
    "plt.xlabel('c')\n",
    "plt.ylabel('training accuracy')\n",
    "\n",
    "plt.subplot(1, 2, 2)\n",
    "plt.plot(np.log10(c_logreg),acc_test_logreg)\n",
    "plt.grid()\n",
    "plt.xlabel('c')\n",
    "plt.ylabel('test accuracy')"
   ]
  },
  {
   "cell_type": "code",
   "execution_count": 153,
   "metadata": {},
   "outputs": [
    {
     "name": "stdout",
     "output_type": "stream",
     "text": [
      "Accuracy on training data = 0.525000\n",
      "Accuracy on test data = 0.420000\n",
      "Accuracy on training data = 0.525000\n",
      "Accuracy on test data = 0.420000\n",
      "Accuracy on training data = 0.575000\n",
      "Accuracy on test data = 0.640000\n",
      "Accuracy on training data = 0.750000\n",
      "Accuracy on test data = 0.800000\n",
      "Accuracy on training data = 0.875000\n",
      "Accuracy on test data = 0.800000\n",
      "Accuracy on training data = 0.900000\n",
      "Accuracy on test data = 0.860000\n"
     ]
    },
    {
     "data": {
      "text/plain": [
       "Text(0,0.5,'test accuracy')"
      ]
     },
     "execution_count": 153,
     "metadata": {},
     "output_type": "execute_result"
    },
    {
     "data": {
      "image/png": "[encoded data removed]",
      "text/plain": [
       "<Figure size 432x288 with 2 Axes>"
      ]
     },
     "metadata": {},
     "output_type": "display_data"
    }
   ],
   "source": [
    "# Initialize an empty list to store values of training set accuracy.\n",
    "acc_train_logreg2 = []\n",
    "\n",
    "# Initialize an empty list to store values of test set accuracy.\n",
    "acc_test_logreg2 = []\n",
    "\n",
    "# Initialize an empty list to store different values of parameter 'c'.\n",
    "c_logreg2 = []\n",
    "\n",
    "for val in c:\n",
    "    logreg2_model(val , X_train, Y_train, X_test, Y_test)\n",
    "    \n",
    "# Write code to plot 2 plots.\n",
    "# Plot training accuracy(Y-axis) v/s 'c' on X - Axis.\n",
    "# Plot test accuracy(Y-Axis) v/s 'c' on X - Axis.\n",
    "plt.subplot(1, 2, 1)\n",
    "plt.plot(np.log10(c_logreg2),acc_train_logreg2)\n",
    "plt.grid()\n",
    "plt.xlabel('c')\n",
    "plt.ylabel('training accuracy')\n",
    "\n",
    "plt.subplot(1, 2, 2)\n",
    "plt.plot(np.log10(c_logreg2),acc_test_logreg2)\n",
    "plt.grid()\n",
    "plt.xlabel('c')\n",
    "plt.ylabel('test accuracy')"
   ]
  },
  {
   "cell_type": "code",
   "execution_count": 154,
   "metadata": {},
   "outputs": [],
   "source": [
    "# Create the transformed data matrices for training and test using poly.fit_transform(..)\n",
    "X_transformed_train = poly.fit_transform(X_train, Y_train)\n",
    "X_transformed_test = poly.fit_transform(X_test, Y_test)"
   ]
  },
  {
   "cell_type": "code",
   "execution_count": 155,
   "metadata": {},
   "outputs": [
    {
     "name": "stderr",
     "output_type": "stream",
     "text": [
      "/Users/sophia.danielsen/anaconda3/lib/python3.6/site-packages/sklearn/linear_model/sag.py:326: ConvergenceWarning: The max_iter was reached which means the coef_ did not converge\n",
      "  \"the coef_ did not converge\", ConvergenceWarning)\n"
     ]
    },
    {
     "name": "stdout",
     "output_type": "stream",
     "text": [
      "Accuracy on training data = 0.525000\n",
      "Accuracy on test data = 0.420000\n",
      "Accuracy on training data = 0.525000\n",
      "Accuracy on test data = 0.420000\n",
      "Accuracy on training data = 0.525000\n",
      "Accuracy on test data = 0.420000\n",
      "Accuracy on training data = 0.525000\n",
      "Accuracy on test data = 0.420000\n",
      "Accuracy on training data = 0.525000\n",
      "Accuracy on test data = 0.420000\n",
      "Accuracy on training data = 0.525000\n",
      "Accuracy on test data = 0.420000\n"
     ]
    },
    {
     "data": {
      "text/plain": [
       "Text(0,0.5,'test accuracy')"
      ]
     },
     "execution_count": 155,
     "metadata": {},
     "output_type": "execute_result"
    },
    {
     "data": {
      "image/png": "[encoded data removed]",
      "text/plain": [
       "<Figure size 432x288 with 2 Axes>"
      ]
     },
     "metadata": {},
     "output_type": "display_data"
    }
   ],
   "source": [
    "# Initialize an empty list to store values of training set accuracy.\n",
    "acc_train_logreg = [] \n",
    "\n",
    "# Initialize an empty list to store values of test set accuracy.\n",
    "acc_test_logreg = []\n",
    "\n",
    "# Initialize an empty list to store different values of parameter 'c'.\n",
    "c_logreg = []\n",
    "\n",
    "for val in c:\n",
    "    logreg_model(val , X_transformed_train, Y_train, X_transformed_test, Y_test)\n",
    "    \n",
    "# Write code to plot 2 plots.\n",
    "# Plot training accuracy(Y-axis) v/s 'c' on X - Axis.\n",
    "# Plot test accuracy(Y-Axis) v/s 'c' on X - Axis.\n",
    "plt.subplot(1, 2, 1)\n",
    "plt.plot(np.log10(c_logreg),acc_train_logreg)\n",
    "plt.grid()\n",
    "plt.xlabel('c')\n",
    "plt.ylabel('training accuracy')\n",
    "\n",
    "plt.subplot(1, 2, 2)\n",
    "plt.plot(np.log10(c_logreg),acc_test_logreg)\n",
    "plt.grid()\n",
    "plt.xlabel('c')\n",
    "plt.ylabel('test accuracy')"
   ]
  },
  {
   "cell_type": "code",
   "execution_count": 156,
   "metadata": {},
   "outputs": [
    {
     "name": "stdout",
     "output_type": "stream",
     "text": [
      "Accuracy on training data = 0.900000\n",
      "Accuracy on test data = 0.760000\n",
      "Accuracy on training data = 0.950000\n",
      "Accuracy on test data = 0.800000\n",
      "Accuracy on training data = 1.000000\n",
      "Accuracy on test data = 0.780000\n",
      "Accuracy on training data = 1.000000\n",
      "Accuracy on test data = 0.780000\n",
      "Accuracy on training data = 1.000000\n",
      "Accuracy on test data = 0.760000\n",
      "Accuracy on training data = 1.000000\n",
      "Accuracy on test data = 0.760000\n"
     ]
    },
    {
     "data": {
      "text/plain": [
       "Text(0,0.5,'test accuracy')"
      ]
     },
     "execution_count": 156,
     "metadata": {},
     "output_type": "execute_result"
    },
    {
     "data": {
      "image/png": "[encoded data removed]",
      "text/plain": [
       "<Figure size 432x288 with 2 Axes>"
      ]
     },
     "metadata": {},
     "output_type": "display_data"
    }
   ],
   "source": [
    "# Initialize an empty list to store values of training set accuracy.\n",
    "acc_train_logreg2 = []\n",
    "\n",
    "# Initialize an empty list to store values of test set accuracy.\n",
    "acc_test_logreg2 = []\n",
    "\n",
    "# Initialize an empty list to store different values of parameter 'c'.\n",
    "c_logreg2 = []\n",
    "\n",
    "for val in c:\n",
    "    logreg2_model(val , X_transformed_train, Y_train, X_transformed_test, Y_test)\n",
    "    \n",
    "# Write code to plot 2 plots.\n",
    "# Plot training accuracy(Y-axis) v/s 'c' on X - Axis.\n",
    "# Plot test accuracy(Y-Axis) v/s 'c' on X - Axis.\n",
    "plt.subplot(1, 2, 1)\n",
    "plt.plot(np.log10(c_logreg2),acc_train_logreg2)\n",
    "plt.grid()\n",
    "plt.xlabel('c')\n",
    "plt.ylabel('training accuracy')\n",
    "\n",
    "plt.subplot(1, 2, 2)\n",
    "plt.plot(np.log10(c_logreg2),acc_test_logreg2)\n",
    "plt.grid()\n",
    "plt.xlabel('c')\n",
    "plt.ylabel('test accuracy')"
   ]
  },
  {
   "cell_type": "code",
   "execution_count": 157,
   "metadata": {},
   "outputs": [
    {
     "name": "stdout",
     "output_type": "stream",
     "text": [
      "Accuracy Training = 0.650000\n",
      "Accuracy Test = 0.680000\n",
      "Accuracy Training = 0.800000\n",
      "Accuracy Test = 0.800000\n",
      "Accuracy Training = 0.875000\n",
      "Accuracy Test = 0.880000\n",
      "Accuracy Training = 0.850000\n",
      "Accuracy Test = 0.880000\n",
      "Accuracy Training = 0.950000\n",
      "Accuracy Test = 0.860000\n",
      "Accuracy Training = 0.950000\n",
      "Accuracy Test = 0.860000\n"
     ]
    },
    {
     "data": {
      "text/plain": [
       "Text(0,0.5,'test accuracy')"
      ]
     },
     "execution_count": 157,
     "metadata": {},
     "output_type": "execute_result"
    },
    {
     "data": {
      "image/png": "[encoded data removed]",
      "text/plain": [
       "<Figure size 432x288 with 2 Axes>"
      ]
     },
     "metadata": {},
     "output_type": "display_data"
    }
   ],
   "source": [
    "acc_train_svm_linear = []\n",
    "acc_test_svm_linear = []\n",
    "c_svm_linear = []\n",
    "\n",
    "for val in c:\n",
    "    svm_linear(val)\n",
    "    \n",
    "# Write code to plot 2 plots.\n",
    "# Plot training accuracy(Y-axis) v/s 'c' on X - Axis.\n",
    "# Plot test accuracy(Y-Axis) v/s 'c' on X - Axis.\n",
    "plt.subplot(1, 2, 1)\n",
    "plt.plot(np.log10(c_svm_linear),acc_train_svm_linear)\n",
    "plt.grid()\n",
    "plt.xlabel('c')\n",
    "plt.ylabel('training accuracy')\n",
    "\n",
    "plt.subplot(1, 2, 2)\n",
    "plt.plot(np.log10(c_svm_linear),acc_test_svm_linear)\n",
    "plt.grid()\n",
    "plt.xlabel('c')\n",
    "plt.ylabel('test accuracy')"
   ]
  },
  {
   "cell_type": "code",
   "execution_count": 169,
   "metadata": {},
   "outputs": [
    {
     "name": "stdout",
     "output_type": "stream",
     "text": [
      "Accuracy Training = 0.525000\n",
      "Accuracy Test= 0.420000\n",
      "Accuracy Training = 0.525000\n",
      "Accuracy Test= 0.420000\n",
      "Accuracy Training = 0.525000\n",
      "Accuracy Test= 0.420000\n",
      "Accuracy Training = 0.525000\n",
      "Accuracy Test= 0.420000\n",
      "Accuracy Training = 0.750000\n",
      "Accuracy Test= 0.700000\n",
      "Accuracy Training = 0.975000\n",
      "Accuracy Test= 0.880000\n"
     ]
    }
   ],
   "source": [
    "# Call the above function i.e. svm_rbf with different values of parameter 'c' and 'g'.\n",
    "# Start with smaller values of 'c' say 0.0001, 0.001, 0.01, 0.1, 1, 10, 100\n",
    "for val in c:\n",
    "    svm_rbf(val, 0.001)"
   ]
  },
  {
   "cell_type": "code",
   "execution_count": 170,
   "metadata": {},
   "outputs": [
    {
     "name": "stdout",
     "output_type": "stream",
     "text": [
      "Accuracy Training = 0.975000\n",
      "Accuracy Test = 0.760000\n",
      "Accuracy Training = 1.000000\n",
      "Accuracy Test = 0.740000\n",
      "Accuracy Training = 1.000000\n",
      "Accuracy Test = 0.740000\n",
      "Accuracy Training = 1.000000\n",
      "Accuracy Test = 0.740000\n",
      "Accuracy Training = 1.000000\n",
      "Accuracy Test = 0.740000\n",
      "Accuracy Training = 1.000000\n",
      "Accuracy Test = 0.740000\n"
     ]
    },
    {
     "data": {
      "text/plain": [
       "Text(0,0.5,'test accuracy')"
      ]
     },
     "execution_count": 170,
     "metadata": {},
     "output_type": "execute_result"
    },
    {
     "data": {
      "image/png": "[encoded data removed]",
      "text/plain": [
       "<Figure size 432x288 with 2 Axes>"
      ]
     },
     "metadata": {},
     "output_type": "display_data"
    }
   ],
   "source": [
    "acc_train_svm_poly = []\n",
    "acc_test_svm_poly = []\n",
    "c_svm_poly = []\n",
    "\n",
    "for val in c:\n",
    "    svm_polynomial(val)\n",
    "# Write code to plot 2 plots.\n",
    "# Plot training accuracy(Y-axis) v/s 'c' on X - Axis.\n",
    "# Plot test accuracy(Y-Axis) v/s 'c' on X - Axis.\n",
    "plt.subplot(1, 2, 1)\n",
    "plt.plot(np.log10(c_svm_poly),acc_train_svm_poly)\n",
    "plt.grid()\n",
    "plt.xlabel('c')\n",
    "plt.ylabel('training accuracy')\n",
    "\n",
    "plt.subplot(1, 2, 2)\n",
    "plt.plot(np.log10(c_svm_poly),acc_test_svm_poly)\n",
    "plt.grid()\n",
    "plt.xlabel('c')\n",
    "plt.ylabel('test accuracy')"
   ]
  },
  {
   "cell_type": "code",
   "execution_count": 204,
   "metadata": {},
   "outputs": [
    {
     "name": "stdout",
     "output_type": "stream",
     "text": [
      "(90, 8)\n"
     ]
    }
   ],
   "source": [
    "# Read the file into a pandas data frame.\n",
    "df = pd.read_csv(\"Immunotherapy.csv\")\n",
    "\n",
    "# There can be some columns which may have missing values. So, we are removing those columns from our dataset.\n",
    "df1 = df.dropna(axis = 1)\n",
    "\n",
    "# Converting the df1 data frame into a numpy array named df2. Use values method of dataframes.\n",
    "df2 = df1.values\n",
    "\n",
    "print(df2.shape) \n",
    "\n",
    "# Select all rows and first 19 columns as X from df2.\n",
    "X = df2[:, :7]\n",
    "# Select all rows and last column as Y from df2.\n",
    "Y = df2[:, -1]\n",
    "\n",
    "# Splitting the dataset into training and test data.\n",
    "# Select first 600 rows as training dataset and the remaining rows as test dataset.\n",
    "X_train = X[:40]\n",
    "Y_train = Y[:40]\n",
    "X_test = X[40:]\n",
    "Y_test = Y[40:]"
   ]
  },
  {
   "cell_type": "code",
   "execution_count": 205,
   "metadata": {},
   "outputs": [
    {
     "name": "stdout",
     "output_type": "stream",
     "text": [
      "Accuracy on training data = 0.800000\n",
      "Accuracy on test data = 0.780000\n",
      "Accuracy on training data = 0.800000\n",
      "Accuracy on test data = 0.780000\n",
      "Accuracy on training data = 0.800000\n",
      "Accuracy on test data = 0.780000\n",
      "Accuracy on training data = 0.800000\n",
      "Accuracy on test data = 0.780000\n",
      "Accuracy on training data = 0.800000\n",
      "Accuracy on test data = 0.780000\n",
      "Accuracy on training data = 0.800000\n",
      "Accuracy on test data = 0.780000\n"
     ]
    },
    {
     "name": "stderr",
     "output_type": "stream",
     "text": [
      "/Users/sophia.danielsen/anaconda3/lib/python3.6/site-packages/sklearn/linear_model/sag.py:326: ConvergenceWarning: The max_iter was reached which means the coef_ did not converge\n",
      "  \"the coef_ did not converge\", ConvergenceWarning)\n"
     ]
    },
    {
     "data": {
      "text/plain": [
       "Text(0,0.5,'test accuracy')"
      ]
     },
     "execution_count": 205,
     "metadata": {},
     "output_type": "execute_result"
    },
    {
     "data": {
      "image/png": "[encoded data removed]",
      "text/plain": [
       "<Figure size 432x288 with 2 Axes>"
      ]
     },
     "metadata": {},
     "output_type": "display_data"
    }
   ],
   "source": [
    "c = [0.0001, 0.001, 0.01, 0.1, 1, 10]\n",
    "\n",
    "# Initialize an empty list to store values of training set accuracy.\n",
    "acc_train_logreg = [] \n",
    "\n",
    "# Initialize an empty list to store values of test set accuracy.\n",
    "acc_test_logreg = []\n",
    "\n",
    "# Initialize an empty list to store different values of parameter 'c'.\n",
    "c_logreg = []\n",
    "\n",
    "for val in c:\n",
    "    logreg_model(val , X_train, Y_train, X_test, Y_test)\n",
    "    \n",
    "# Write code to plot 2 plots.\n",
    "# Plot training accuracy(Y-axis) v/s 'c' on X - Axis.\n",
    "# Plot test accuracy(Y-Axis) v/s 'c' on X - Axis.\n",
    "plt.subplot(1, 2, 1)\n",
    "plt.plot(np.log10(c_logreg),acc_train_logreg)\n",
    "plt.grid()\n",
    "plt.xlabel('c')\n",
    "plt.ylabel('training accuracy')\n",
    "\n",
    "plt.subplot(1, 2, 2)\n",
    "plt.plot(np.log10(c_logreg),acc_test_logreg)\n",
    "plt.grid()\n",
    "plt.xlabel('c')\n",
    "plt.ylabel('test accuracy')"
   ]
  },
  {
   "cell_type": "code",
   "execution_count": 206,
   "metadata": {},
   "outputs": [
    {
     "name": "stdout",
     "output_type": "stream",
     "text": [
      "Accuracy on training data = 0.800000\n",
      "Accuracy on test data = 0.780000\n",
      "Accuracy on training data = 0.800000\n",
      "Accuracy on test data = 0.780000\n",
      "Accuracy on training data = 0.750000\n",
      "Accuracy on test data = 0.760000\n",
      "Accuracy on training data = 0.800000\n",
      "Accuracy on test data = 0.720000\n",
      "Accuracy on training data = 0.825000\n",
      "Accuracy on test data = 0.760000\n",
      "Accuracy on training data = 0.900000\n",
      "Accuracy on test data = 0.700000\n"
     ]
    },
    {
     "data": {
      "text/plain": [
       "Text(0,0.5,'test accuracy')"
      ]
     },
     "execution_count": 206,
     "metadata": {},
     "output_type": "execute_result"
    },
    {
     "data": {
      "image/png": "[encoded data removed]",
      "text/plain": [
       "<Figure size 432x288 with 2 Axes>"
      ]
     },
     "metadata": {},
     "output_type": "display_data"
    }
   ],
   "source": [
    "# Initialize an empty list to store values of training set accuracy.\n",
    "acc_train_logreg2 = []\n",
    "\n",
    "# Initialize an empty list to store values of test set accuracy.\n",
    "acc_test_logreg2 = []\n",
    "\n",
    "# Initialize an empty list to store different values of parameter 'c'.\n",
    "c_logreg2 = []\n",
    "\n",
    "for val in c:\n",
    "    logreg2_model(val , X_train, Y_train, X_test, Y_test)\n",
    "    \n",
    "# Write code to plot 2 plots.\n",
    "# Plot training accuracy(Y-axis) v/s 'c' on X - Axis.\n",
    "# Plot test accuracy(Y-Axis) v/s 'c' on X - Axis.\n",
    "plt.subplot(1, 2, 1)\n",
    "plt.plot(np.log10(c_logreg2),acc_train_logreg2)\n",
    "plt.grid()\n",
    "plt.xlabel('c')\n",
    "plt.ylabel('training accuracy')\n",
    "\n",
    "plt.subplot(1, 2, 2)\n",
    "plt.plot(np.log10(c_logreg2),acc_test_logreg2)\n",
    "plt.grid()\n",
    "plt.xlabel('c')\n",
    "plt.ylabel('test accuracy')"
   ]
  },
  {
   "cell_type": "code",
   "execution_count": 207,
   "metadata": {},
   "outputs": [],
   "source": [
    "# Create the transformed data matrices for training and test using poly.fit_transform(..)\n",
    "X_transformed_train = poly.fit_transform(X_train, Y_train)\n",
    "X_transformed_test = poly.fit_transform(X_test, Y_test)"
   ]
  },
  {
   "cell_type": "code",
   "execution_count": 208,
   "metadata": {},
   "outputs": [
    {
     "name": "stdout",
     "output_type": "stream",
     "text": [
      "Accuracy on training data = 0.800000\n",
      "Accuracy on test data = 0.780000\n",
      "Accuracy on training data = 0.800000\n",
      "Accuracy on test data = 0.780000\n",
      "Accuracy on training data = 0.800000\n",
      "Accuracy on test data = 0.780000\n",
      "Accuracy on training data = 0.800000\n",
      "Accuracy on test data = 0.780000\n",
      "Accuracy on training data = 0.800000\n",
      "Accuracy on test data = 0.780000\n",
      "Accuracy on training data = 0.800000\n",
      "Accuracy on test data = 0.780000\n"
     ]
    },
    {
     "name": "stderr",
     "output_type": "stream",
     "text": [
      "/Users/sophia.danielsen/anaconda3/lib/python3.6/site-packages/sklearn/linear_model/sag.py:326: ConvergenceWarning: The max_iter was reached which means the coef_ did not converge\n",
      "  \"the coef_ did not converge\", ConvergenceWarning)\n"
     ]
    },
    {
     "data": {
      "text/plain": [
       "Text(0,0.5,'test accuracy')"
      ]
     },
     "execution_count": 208,
     "metadata": {},
     "output_type": "execute_result"
    },
    {
     "data": {
      "image/png": "[encoded data removed]",
      "text/plain": [
       "<Figure size 432x288 with 2 Axes>"
      ]
     },
     "metadata": {},
     "output_type": "display_data"
    }
   ],
   "source": [
    "# Initialize an empty list to store values of training set accuracy.\n",
    "acc_train_logreg = [] \n",
    "\n",
    "# Initialize an empty list to store values of test set accuracy.\n",
    "acc_test_logreg = []\n",
    "\n",
    "# Initialize an empty list to store different values of parameter 'c'.\n",
    "c_logreg = []\n",
    "\n",
    "for val in c:\n",
    "    logreg_model(val , X_transformed_train, Y_train, X_transformed_test, Y_test)\n",
    "    \n",
    "# Write code to plot 2 plots.\n",
    "# Plot training accuracy(Y-axis) v/s 'c' on X - Axis.\n",
    "# Plot test accuracy(Y-Axis) v/s 'c' on X - Axis.\n",
    "plt.subplot(1, 2, 1)\n",
    "plt.plot(np.log10(c_logreg),acc_train_logreg)\n",
    "plt.grid()\n",
    "plt.xlabel('c')\n",
    "plt.ylabel('training accuracy')\n",
    "\n",
    "plt.subplot(1, 2, 2)\n",
    "plt.plot(np.log10(c_logreg),acc_test_logreg)\n",
    "plt.grid()\n",
    "plt.xlabel('c')\n",
    "plt.ylabel('test accuracy')"
   ]
  },
  {
   "cell_type": "code",
   "execution_count": 209,
   "metadata": {},
   "outputs": [
    {
     "name": "stdout",
     "output_type": "stream",
     "text": [
      "Accuracy on training data = 0.925000\n",
      "Accuracy on test data = 0.540000\n",
      "Accuracy on training data = 0.950000\n",
      "Accuracy on test data = 0.520000\n",
      "Accuracy on training data = 0.975000\n",
      "Accuracy on test data = 0.480000\n",
      "Accuracy on training data = 1.000000\n",
      "Accuracy on test data = 0.600000\n",
      "Accuracy on training data = 1.000000\n",
      "Accuracy on test data = 0.620000\n",
      "Accuracy on training data = 1.000000\n",
      "Accuracy on test data = 0.660000\n"
     ]
    },
    {
     "data": {
      "text/plain": [
       "Text(0,0.5,'test accuracy')"
      ]
     },
     "execution_count": 209,
     "metadata": {},
     "output_type": "execute_result"
    },
    {
     "data": {
      "image/png": "[encoded data removed]",
      "text/plain": [
       "<Figure size 432x288 with 2 Axes>"
      ]
     },
     "metadata": {},
     "output_type": "display_data"
    }
   ],
   "source": [
    "# Initialize an empty list to store values of training set accuracy.\n",
    "acc_train_logreg2 = []\n",
    "\n",
    "# Initialize an empty list to store values of test set accuracy.\n",
    "acc_test_logreg2 = []\n",
    "\n",
    "# Initialize an empty list to store different values of parameter 'c'.\n",
    "c_logreg2 = []\n",
    "\n",
    "for val in c:\n",
    "    logreg2_model(val , X_transformed_train, Y_train, X_transformed_test, Y_test)\n",
    "    \n",
    "# Write code to plot 2 plots.\n",
    "# Plot training accuracy(Y-axis) v/s 'c' on X - Axis.\n",
    "# Plot test accuracy(Y-Axis) v/s 'c' on X - Axis.\n",
    "plt.subplot(1, 2, 1)\n",
    "plt.plot(np.log10(c_logreg2),acc_train_logreg2)\n",
    "plt.grid()\n",
    "plt.xlabel('c')\n",
    "plt.ylabel('training accuracy')\n",
    "\n",
    "plt.subplot(1, 2, 2)\n",
    "plt.plot(np.log10(c_logreg2),acc_test_logreg2)\n",
    "plt.grid()\n",
    "plt.xlabel('c')\n",
    "plt.ylabel('test accuracy')"
   ]
  },
  {
   "cell_type": "code",
   "execution_count": 210,
   "metadata": {},
   "outputs": [
    {
     "name": "stdout",
     "output_type": "stream",
     "text": [
      "Accuracy Training = 0.800000\n",
      "Accuracy Test = 0.780000\n",
      "Accuracy Training = 0.800000\n",
      "Accuracy Test = 0.780000\n",
      "Accuracy Training = 0.825000\n",
      "Accuracy Test = 0.800000\n",
      "Accuracy Training = 0.850000\n",
      "Accuracy Test = 0.680000\n",
      "Accuracy Training = 0.850000\n",
      "Accuracy Test = 0.620000\n",
      "Accuracy Training = 0.850000\n",
      "Accuracy Test = 0.620000\n"
     ]
    },
    {
     "data": {
      "text/plain": [
       "Text(0,0.5,'test accuracy')"
      ]
     },
     "execution_count": 210,
     "metadata": {},
     "output_type": "execute_result"
    },
    {
     "data": {
      "image/png": "[encoded data removed]",
      "text/plain": [
       "<Figure size 432x288 with 2 Axes>"
      ]
     },
     "metadata": {},
     "output_type": "display_data"
    }
   ],
   "source": [
    "acc_train_svm_linear = []\n",
    "acc_test_svm_linear = []\n",
    "c_svm_linear = []\n",
    "\n",
    "for val in c:\n",
    "    svm_linear(val)\n",
    "    \n",
    "# Write code to plot 2 plots.\n",
    "# Plot training accuracy(Y-axis) v/s 'c' on X - Axis.\n",
    "# Plot test accuracy(Y-Axis) v/s 'c' on X - Axis.\n",
    "plt.subplot(1, 2, 1)\n",
    "plt.plot(np.log10(c_svm_linear),acc_train_svm_linear)\n",
    "plt.grid()\n",
    "plt.xlabel('c')\n",
    "plt.ylabel('training accuracy')\n",
    "\n",
    "plt.subplot(1, 2, 2)\n",
    "plt.plot(np.log10(c_svm_linear),acc_test_svm_linear)\n",
    "plt.grid()\n",
    "plt.xlabel('c')\n",
    "plt.ylabel('test accuracy')"
   ]
  },
  {
   "cell_type": "code",
   "execution_count": 211,
   "metadata": {},
   "outputs": [
    {
     "name": "stdout",
     "output_type": "stream",
     "text": [
      "Accuracy Training = 0.800000\n",
      "Accuracy Test= 0.780000\n",
      "Accuracy Training = 0.800000\n",
      "Accuracy Test= 0.780000\n",
      "Accuracy Training = 0.800000\n",
      "Accuracy Test= 0.780000\n",
      "Accuracy Training = 0.800000\n",
      "Accuracy Test= 0.780000\n",
      "Accuracy Training = 0.825000\n",
      "Accuracy Test= 0.780000\n",
      "Accuracy Training = 0.975000\n",
      "Accuracy Test= 0.540000\n"
     ]
    }
   ],
   "source": [
    "# Call the above function i.e. svm_rbf with different values of parameter 'c' and 'g'.\n",
    "# Start with smaller values of 'c' say 0.0001, 0.001, 0.01, 0.1, 1, 10, 100\n",
    "for val in c:\n",
    "    svm_rbf(val, 0.001)"
   ]
  },
  {
   "cell_type": "code",
   "execution_count": 212,
   "metadata": {},
   "outputs": [
    {
     "name": "stdout",
     "output_type": "stream",
     "text": [
      "Accuracy Training = 1.000000\n",
      "Accuracy Test = 0.540000\n",
      "Accuracy Training = 1.000000\n",
      "Accuracy Test = 0.540000\n",
      "Accuracy Training = 1.000000\n",
      "Accuracy Test = 0.540000\n",
      "Accuracy Training = 1.000000\n",
      "Accuracy Test = 0.540000\n",
      "Accuracy Training = 1.000000\n",
      "Accuracy Test = 0.540000\n",
      "Accuracy Training = 1.000000\n",
      "Accuracy Test = 0.540000\n"
     ]
    },
    {
     "data": {
      "text/plain": [
       "Text(0,0.5,'test accuracy')"
      ]
     },
     "execution_count": 212,
     "metadata": {},
     "output_type": "execute_result"
    },
    {
     "data": {
      "image/png": "[encoded data removed]",
      "text/plain": [
       "<Figure size 432x288 with 2 Axes>"
      ]
     },
     "metadata": {},
     "output_type": "display_data"
    }
   ],
   "source": [
    "acc_train_svm_poly = []\n",
    "acc_test_svm_poly = []\n",
    "c_svm_poly = []\n",
    "\n",
    "for val in c:\n",
    "    svm_polynomial(val)\n",
    "# Write code to plot 2 plots.\n",
    "# Plot training accuracy(Y-axis) v/s 'c' on X - Axis.\n",
    "# Plot test accuracy(Y-Axis) v/s 'c' on X - Axis.\n",
    "plt.subplot(1, 2, 1)\n",
    "plt.plot(np.log10(c_svm_poly),acc_train_svm_poly)\n",
    "plt.grid()\n",
    "plt.xlabel('c')\n",
    "plt.ylabel('training accuracy')\n",
    "\n",
    "plt.subplot(1, 2, 2)\n",
    "plt.plot(np.log10(c_svm_poly),acc_test_svm_poly)\n",
    "plt.grid()\n",
    "plt.xlabel('c')\n",
    "plt.ylabel('test accuracy')"
   ]
  },
  {
   "cell_type": "code",
   "execution_count": 102,
   "metadata": {},
   "outputs": [
    {
     "name": "stdout",
     "output_type": "stream",
     "text": [
      "[-1  1  1]\n"
     ]
    }
   ],
   "source": [
    "c = 0.01\n",
    "g = 0.5\n",
    "xtr = np.array([1,2,3,4])\n",
    "ytr = np.array([-1,1,1,-1])\n",
    "\n",
    "xtr = xtr.reshape(-1, 1)\n",
    "\n",
    "\n",
    "xnew = np.array([1.2, 2.5, 3.25])\n",
    "xnew = xnew.reshape(-1, 1)\n",
    "\n",
    "svc_rbf = svm.SVC(probability = False, kernel = 'rbf', C = c, gamma = g)\n",
    "    \n",
    "# Fit the classifier on the training set.\n",
    "svc_rbf.fit(xtr, ytr)\n",
    "    \n",
    "# Find the prediction and accuracy on the training set.\n",
    "ynew = svc_rbf.predict(xnew)\n",
    "\n",
    "print(ynew)"
   ]
  },
  {
   "cell_type": "code",
   "execution_count": null,
   "metadata": {},
   "outputs": [],
   "source": []
  }
 ],
 "metadata": {
  "kernelspec": {
   "display_name": "Python 3",
   "language": "python",
   "name": "python3"
  },
  "language_info": {
   "codemirror_mode": {
    "name": "ipython",
    "version": 3
   },
   "file_extension": ".py",
   "mimetype": "text/x-python",
   "name": "python",
   "nbconvert_exporter": "python",
   "pygments_lexer": "ipython3",
   "version": "3.6.5"
  }
 },
 "nbformat": 4,
 "nbformat_minor": 2
}
