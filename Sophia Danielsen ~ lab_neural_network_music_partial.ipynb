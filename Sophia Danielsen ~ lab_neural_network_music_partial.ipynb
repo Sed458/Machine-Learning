{
 "cells": [
  {
   "cell_type": "markdown",
   "metadata": {},
   "source": [
    "# Lab 7:  Neural Networks for Music Classification\n",
    "\n",
    "In addition to the concepts in the [MNIST neural network demo](./mnist_neural.ipynb), in this lab, you will learn to:\n",
    "* Load a file from a URL\n",
    "* Extract simple features from audio samples for machine learning tasks such as speech recognition and classification\n",
    "* Build a simple neural network for music classification using these features\n",
    "* Use a callback to store the loss and accuracy history in the training process\n",
    "* Optimize the learning rate of the neural network\n",
    "\n",
    "To illustrate the basic concepts, we will look at a relatively simple music classification problem.  Given a sample of music, we want to determine which instrument (e.g. trumpet, violin, piano) is playing.  This dataset was generously supplied by [Prof. Juan Bello](http://steinhardt.nyu.edu/faculty/Juan_Pablo_Bello) at NYU Stenihardt  and his former PhD student Eric Humphrey (now at Spotify).  They have a complete website dedicated to deep learning methods in music informatics:\n",
    "\n",
    "http://marl.smusic.nyu.edu/wordpress/projects/feature-learning-deep-architectures/deep-learning-python-tutorial/\n",
    "\n",
    "You can also check out Juan's <a href=\"http://www.nyu.edu/classes/bello/ACA.html\">course</a>.\n",
    "\n"
   ]
  },
  {
   "cell_type": "markdown",
   "metadata": {},
   "source": [
    "## Loading the Keras package\n",
    "We begin by loading keras and the other packages"
   ]
  },
  {
   "cell_type": "code",
   "execution_count": 148,
   "metadata": {},
   "outputs": [],
   "source": [
    "import keras"
   ]
  },
  {
   "cell_type": "code",
   "execution_count": 149,
   "metadata": {},
   "outputs": [],
   "source": [
    "import numpy as np\n",
    "import matplotlib\n",
    "import matplotlib.pyplot as plt\n",
    "%matplotlib inline"
   ]
  },
  {
   "cell_type": "markdown",
   "metadata": {},
   "source": [
    "## Audio Feature Extraction with Librosa\n",
    "\n",
    "The key to audio classification is to extract the correct features. In addition to `keras`, we will need the `librosa` package.  The `librosa` package in python has a rich set of methods extracting the features of audio samples commonly used in machine learning tasks such as speech recognition and sound classification. \n",
    "\n",
    "Installation instructions and complete documentation for the package are given on the [librosa main page](https://librosa.github.io/librosa/).  On most systems, you should be able to simply use:\n",
    "\n",
    "    pip install -u librosa\n",
    "    \n",
    "For Unix, you may need to load some additional packages:\n",
    "\n",
    "    sudo apt-get install build-essential\n",
    "    sudo apt-get install libxext-dev python-qt4 qt4-dev-tools\n",
    "    pip install librosa\n",
    "    \n",
    "After you have installed the package, try to import it."
   ]
  },
  {
   "cell_type": "code",
   "execution_count": 150,
   "metadata": {},
   "outputs": [],
   "source": [
    "import librosa\n",
    "import librosa.display\n",
    "import librosa.feature"
   ]
  },
  {
   "cell_type": "markdown",
   "metadata": {},
   "source": [
    "In this lab, we will use a set of music samples from the website:\n",
    "\n",
    "http://theremin.music.uiowa.edu\n",
    "\n",
    "This website has a great set of samples for audio processing.  Look on the web for how to use the `requests.get` and `file.write` commands to load the file at the URL provided into your working directory.\n",
    "\n",
    "You can play the audio sample by copying the file to your local machine and playing it on any media player.  If you listen to it you will hear a soprano saxaphone (with vibrato) playing four notes (C, C#, D, Eb)."
   ]
  },
  {
   "cell_type": "code",
   "execution_count": 151,
   "metadata": {},
   "outputs": [],
   "source": [
    "import requests\n",
    "fn = \"SopSax.Vib.pp.C6Eb6.aiff\"\n",
    "url = \"http://theremin.music.uiowa.edu/sound files/MIS/Woodwinds/sopranosaxophone/\"+fn\n",
    "\n",
    "# TODO:  Load the file from url and save it in a file under the name fn\n",
    "r = requests.get(url)\n",
    "\n",
    "with open(fn, 'w') as f:\n",
    "    f.write(str(r.content))\n"
   ]
  },
  {
   "cell_type": "markdown",
   "metadata": {},
   "source": [
    "Next, use `librosa` command `librosa.load` to read the audio file with filename `fn` and get the samples `y` and sample rate `sr`."
   ]
  },
  {
   "cell_type": "code",
   "execution_count": 152,
   "metadata": {},
   "outputs": [
    {
     "ename": "NoBackendError",
     "evalue": "",
     "output_type": "error",
     "traceback": [
      "\u001b[0;31m---------------------------------------------------------------------------\u001b[0m",
      "\u001b[0;31mNoBackendError\u001b[0m                            Traceback (most recent call last)",
      "\u001b[0;32m<ipython-input-152-d103124b4edf>\u001b[0m in \u001b[0;36m<module>\u001b[0;34m()\u001b[0m\n\u001b[1;32m      1\u001b[0m \u001b[0;31m# TODO\u001b[0m\u001b[0;34m\u001b[0m\u001b[0;34m\u001b[0m\u001b[0m\n\u001b[0;32m----> 2\u001b[0;31m \u001b[0my\u001b[0m\u001b[0;34m,\u001b[0m \u001b[0msr\u001b[0m \u001b[0;34m=\u001b[0m \u001b[0mlibrosa\u001b[0m\u001b[0;34m.\u001b[0m\u001b[0mload\u001b[0m\u001b[0;34m(\u001b[0m\u001b[0mfn\u001b[0m\u001b[0;34m)\u001b[0m\u001b[0;34m\u001b[0m\u001b[0m\n\u001b[0m",
      "\u001b[0;32m~/anaconda3/lib/python3.6/site-packages/librosa/core/audio.py\u001b[0m in \u001b[0;36mload\u001b[0;34m(path, sr, mono, offset, duration, dtype, res_type)\u001b[0m\n\u001b[1;32m    110\u001b[0m \u001b[0;34m\u001b[0m\u001b[0m\n\u001b[1;32m    111\u001b[0m     \u001b[0my\u001b[0m \u001b[0;34m=\u001b[0m \u001b[0;34m[\u001b[0m\u001b[0;34m]\u001b[0m\u001b[0;34m\u001b[0m\u001b[0m\n\u001b[0;32m--> 112\u001b[0;31m     \u001b[0;32mwith\u001b[0m \u001b[0maudioread\u001b[0m\u001b[0;34m.\u001b[0m\u001b[0maudio_open\u001b[0m\u001b[0;34m(\u001b[0m\u001b[0mos\u001b[0m\u001b[0;34m.\u001b[0m\u001b[0mpath\u001b[0m\u001b[0;34m.\u001b[0m\u001b[0mrealpath\u001b[0m\u001b[0;34m(\u001b[0m\u001b[0mpath\u001b[0m\u001b[0;34m)\u001b[0m\u001b[0;34m)\u001b[0m \u001b[0;32mas\u001b[0m \u001b[0minput_file\u001b[0m\u001b[0;34m:\u001b[0m\u001b[0;34m\u001b[0m\u001b[0m\n\u001b[0m\u001b[1;32m    113\u001b[0m         \u001b[0msr_native\u001b[0m \u001b[0;34m=\u001b[0m \u001b[0minput_file\u001b[0m\u001b[0;34m.\u001b[0m\u001b[0msamplerate\u001b[0m\u001b[0;34m\u001b[0m\u001b[0m\n\u001b[1;32m    114\u001b[0m         \u001b[0mn_channels\u001b[0m \u001b[0;34m=\u001b[0m \u001b[0minput_file\u001b[0m\u001b[0;34m.\u001b[0m\u001b[0mchannels\u001b[0m\u001b[0;34m\u001b[0m\u001b[0m\n",
      "\u001b[0;32m~/anaconda3/lib/python3.6/site-packages/audioread/__init__.py\u001b[0m in \u001b[0;36maudio_open\u001b[0;34m(path)\u001b[0m\n\u001b[1;32m    114\u001b[0m \u001b[0;34m\u001b[0m\u001b[0m\n\u001b[1;32m    115\u001b[0m     \u001b[0;31m# All backends failed!\u001b[0m\u001b[0;34m\u001b[0m\u001b[0;34m\u001b[0m\u001b[0m\n\u001b[0;32m--> 116\u001b[0;31m     \u001b[0;32mraise\u001b[0m \u001b[0mNoBackendError\u001b[0m\u001b[0;34m(\u001b[0m\u001b[0;34m)\u001b[0m\u001b[0;34m\u001b[0m\u001b[0m\n\u001b[0m",
      "\u001b[0;31mNoBackendError\u001b[0m: "
     ]
    }
   ],
   "source": [
    "# TODO\n",
    "y, sr = librosa.load(fn)"
   ]
  },
  {
   "cell_type": "markdown",
   "metadata": {},
   "source": [
    "Extracting features from audio files is an entire subject on its own right.  A commonly used set of features are called the Mel Frequency Cepstral Coefficients (MFCCs).  These are derived from the so-called mel spectrogram which is something like a regular spectrogram, but the power and frequency are represented in log scale, which more naturally aligns with human perceptual processing.  You can run the code below to display the mel spectrogram from the audio sample.\n",
    "\n",
    "You can easily see the four notes played in the audio track.  You also see the 'harmonics' of each notes, which are other tones at integer multiples of the fundamental frequency of each note."
   ]
  },
  {
   "cell_type": "code",
   "execution_count": 153,
   "metadata": {},
   "outputs": [
    {
     "ename": "NameError",
     "evalue": "name 'y' is not defined",
     "output_type": "error",
     "traceback": [
      "\u001b[0;31m---------------------------------------------------------------------------\u001b[0m",
      "\u001b[0;31mNameError\u001b[0m                                 Traceback (most recent call last)",
      "\u001b[0;32m<ipython-input-153-b9c0c9b4abc2>\u001b[0m in \u001b[0;36m<module>\u001b[0;34m()\u001b[0m\n\u001b[0;32m----> 1\u001b[0;31m \u001b[0mS\u001b[0m \u001b[0;34m=\u001b[0m \u001b[0mlibrosa\u001b[0m\u001b[0;34m.\u001b[0m\u001b[0mfeature\u001b[0m\u001b[0;34m.\u001b[0m\u001b[0mmelspectrogram\u001b[0m\u001b[0;34m(\u001b[0m\u001b[0my\u001b[0m\u001b[0;34m=\u001b[0m\u001b[0my\u001b[0m\u001b[0;34m,\u001b[0m \u001b[0msr\u001b[0m\u001b[0;34m=\u001b[0m\u001b[0msr\u001b[0m\u001b[0;34m,\u001b[0m \u001b[0mn_mels\u001b[0m\u001b[0;34m=\u001b[0m\u001b[0;36m128\u001b[0m\u001b[0;34m,\u001b[0m \u001b[0mfmax\u001b[0m\u001b[0;34m=\u001b[0m\u001b[0;36m8000\u001b[0m\u001b[0;34m)\u001b[0m\u001b[0;34m\u001b[0m\u001b[0m\n\u001b[0m\u001b[1;32m      2\u001b[0m librosa.display.specshow(librosa.logamplitude(S,ref_power=np.max),\n\u001b[1;32m      3\u001b[0m                          y_axis='mel', fmax=8000, x_axis='time')\n\u001b[1;32m      4\u001b[0m \u001b[0mplt\u001b[0m\u001b[0;34m.\u001b[0m\u001b[0mcolorbar\u001b[0m\u001b[0;34m(\u001b[0m\u001b[0mformat\u001b[0m\u001b[0;34m=\u001b[0m\u001b[0;34m'%+2.0f dB'\u001b[0m\u001b[0;34m)\u001b[0m\u001b[0;34m\u001b[0m\u001b[0m\n\u001b[1;32m      5\u001b[0m \u001b[0mplt\u001b[0m\u001b[0;34m.\u001b[0m\u001b[0mtitle\u001b[0m\u001b[0;34m(\u001b[0m\u001b[0;34m'Mel spectrogram'\u001b[0m\u001b[0;34m)\u001b[0m\u001b[0;34m\u001b[0m\u001b[0m\n",
      "\u001b[0;31mNameError\u001b[0m: name 'y' is not defined"
     ]
    }
   ],
   "source": [
    "S = librosa.feature.melspectrogram(y=y, sr=sr, n_mels=128, fmax=8000)\n",
    "librosa.display.specshow(librosa.logamplitude(S,ref_power=np.max),\n",
    "                         y_axis='mel', fmax=8000, x_axis='time')\n",
    "plt.colorbar(format='%+2.0f dB')\n",
    "plt.title('Mel spectrogram')\n",
    "plt.tight_layout()"
   ]
  },
  {
   "cell_type": "markdown",
   "metadata": {},
   "source": [
    "## Downloading the Data\n",
    "\n",
    "Using the MFCC features described above, Eric Humphrey and Juan Bellow have created a complete data set that can used for instrument classification.  Essentially, they collected a number of data files from the website above.  For each audio file, the segmented the track into notes and then extracted 120 MFCCs for each note.  The goal is to recognize the instrument from the 120 MFCCs.  The process of feature extraction is quite involved.  So, we will just use their processed data provided at:\n",
    "\n",
    "https://github.com/marl/dl4mir-tutorial/blob/master/README.md\n",
    "\n",
    "Note the password.  Load the four files into some directory, say  `instrument_dataset`.  Then, load them with the commands."
   ]
  },
  {
   "cell_type": "code",
   "execution_count": 154,
   "metadata": {},
   "outputs": [],
   "source": [
    "data_dir = 'instrument_dataset/'\n",
    "Xtr = np.load(data_dir+'uiowa_train_data.npy')\n",
    "ytr = np.load(data_dir+'uiowa_train_labels.npy')\n",
    "Xts = np.load(data_dir+'uiowa_test_data.npy')\n",
    "yts = np.load(data_dir+'uiowa_test_labels.npy')"
   ]
  },
  {
   "cell_type": "markdown",
   "metadata": {},
   "source": [
    "Looking at the data files:\n",
    "* What are the number of training and test samples?\n",
    "* What is the number of features for each sample?\n",
    "* How many classes (i.e. instruments) are there per class.\n"
   ]
  },
  {
   "cell_type": "code",
   "execution_count": 155,
   "metadata": {},
   "outputs": [
    {
     "name": "stdout",
     "output_type": "stream",
     "text": [
      "(66247, 120)\n",
      "(14904, 120)\n",
      "[0 0 0 ... 9 9 9]\n"
     ]
    }
   ],
   "source": [
    "# TODO\n",
    "# Number Training Samples = 66247\n",
    "print(Xtr.shape)\n",
    "# Number Test Samples = 14904\n",
    "print(Xts.shape)\n",
    "# Number of Training Features = 120\n",
    "# Number of Testing Features = 120\n",
    "# Number of Classes Per Class = 10\n",
    "print(ytr)"
   ]
  },
  {
   "cell_type": "markdown",
   "metadata": {},
   "source": [
    "Before continuing, you must scale the training and test data, `Xtr` and `Xts`.  Compute the mean and std deviation of each feature in `Xtr` and create a new training data set, `Xtr_scale`, by subtracting the mean and dividing by the std deviation.  Also compute a scaled test data set, `Xts_scale` using the mean and std deviation learned from the training data set."
   ]
  },
  {
   "cell_type": "code",
   "execution_count": 156,
   "metadata": {},
   "outputs": [
    {
     "name": "stdout",
     "output_type": "stream",
     "text": [
      "[3.11396769e-04 1.25187332e-03 5.73969814e-03 3.68370208e-03\n",
      " 3.53210991e-04 8.78692233e-04 1.70079750e-03 1.82722101e-03\n",
      " 1.53407535e-03 1.11329503e-03 2.93649999e-04 2.75875029e-04\n",
      " 3.15155005e-04 1.26108053e-03 5.75925634e-03 3.77947109e-03\n",
      " 1.85149982e-03 2.32671322e-03 1.66005199e-03 1.07223383e-03\n",
      " 9.38112986e-04 7.54006212e-04 2.47580808e-04 2.67476329e-04\n",
      " 3.23183034e-04 1.27825088e-03 5.82265715e-03 4.90453266e-03\n",
      " 2.61242456e-03 1.54856282e-03 1.06295753e-03 7.56665145e-04\n",
      " 7.40528675e-04 6.84455590e-04 2.62492912e-04 2.77733040e-04\n",
      " 3.73266280e-04 1.34656909e-03 6.26589651e-03 5.56423630e-03\n",
      " 1.99966022e-03 1.48692239e-03 2.29276138e-03 4.54245830e-03\n",
      " 6.85745521e-03 4.46520365e-03 1.09313561e-03 5.69043220e-04\n",
      " 6.50246164e-04 1.78562193e-03 7.52488064e-03 6.09435310e-03\n",
      " 4.54808603e-03 1.02057094e-02 1.90113677e-02 3.66392294e-02\n",
      " 4.98110621e-02 3.16471127e-02 7.06617864e-03 3.06844162e-03\n",
      " 1.64645317e-03 3.45198143e-03 1.05924415e-02 1.27606362e-02\n",
      " 3.08238190e-02 6.79210495e-02 8.66801424e-02 1.04573623e-01\n",
      " 1.38375303e-01 1.01604026e-01 2.28419409e-02 9.64334076e-03\n",
      " 3.95272076e-03 7.71669993e-03 2.08724569e-02 5.63436452e-02\n",
      " 1.22971879e-01 1.94235906e-01 2.38964613e-01 2.19185238e-01\n",
      " 2.26359991e-01 1.50074375e-01 3.48020599e-02 1.66091798e-02\n",
      " 8.26672682e-03 1.81379253e-02 5.73186360e-02 1.76582298e-01\n",
      " 3.19718959e-01 3.60960137e-01 3.77568165e-01 3.62678998e-01\n",
      " 2.92070749e-01 1.77748422e-01 4.48267087e-02 2.40936176e-02\n",
      " 1.37738874e-02 3.45915058e-02 1.48434142e-01 4.08413360e-01\n",
      " 5.47565636e-01 4.74790122e-01 3.29702660e-01 2.13926925e-01\n",
      " 1.22625086e-01 6.94977088e-02 2.61512528e-02 1.89834190e-02\n",
      " 2.01677175e-02 5.97342502e-02 3.34500282e-01 6.97806189e-01\n",
      " 5.52986078e-01 2.67854425e-01 1.04307454e-01 4.95081129e-02\n",
      " 3.16183767e-02 2.54304242e-02 1.95963087e-02 2.04637971e-02]\n",
      "[4.06395041e-04 1.63597065e-03 7.47086938e-03 4.77172540e-03\n",
      " 6.49247640e-04 1.60460355e-03 3.45620102e-03 3.23751394e-03\n",
      " 2.20346581e-03 1.47002382e-03 3.51333015e-04 3.16042006e-04\n",
      " 4.07894858e-04 1.64031108e-03 7.48151684e-03 4.84861058e-03\n",
      " 3.73358104e-03 3.83030553e-03 2.18013390e-03 1.33309598e-03\n",
      " 1.28911689e-03 1.04865940e-03 3.03392249e-04 3.12786930e-04\n",
      " 4.12420712e-04 1.65034080e-03 7.51034375e-03 5.93798866e-03\n",
      " 4.11087985e-03 1.97799319e-03 1.41945687e-03 9.76560571e-04\n",
      " 3.46395606e-03 6.00561063e-03 2.06784521e-03 5.23742887e-04\n",
      " 5.03873999e-04 1.74076534e-03 7.82057346e-03 6.38209984e-03\n",
      " 2.76866725e-03 4.38203020e-03 1.15874620e-02 2.30217679e-02\n",
      " 3.84186401e-02 2.64794874e-02 6.52340831e-03 2.02657886e-03\n",
      " 1.28868495e-03 2.62662179e-03 9.45140426e-03 7.21476919e-03\n",
      " 1.49348015e-02 4.02837685e-02 6.28788437e-02 1.18837988e-01\n",
      " 1.67218487e-01 1.17208112e-01 2.69291241e-02 9.50201593e-03\n",
      " 2.83303224e-03 5.33457890e-03 1.41336248e-02 2.77195845e-02\n",
      " 8.37090642e-02 1.80160073e-01 1.87536256e-01 2.03558096e-01\n",
      " 2.93452841e-01 2.55526654e-01 6.48694596e-02 2.08733282e-02\n",
      " 5.32189464e-03 1.05141283e-02 2.93854838e-02 1.28014836e-01\n",
      " 2.39548649e-01 3.20976007e-01 3.80592549e-01 2.95224157e-01\n",
      " 3.32648066e-01 2.70168542e-01 6.60724189e-02 2.37935838e-02\n",
      " 1.01746827e-02 2.49955642e-02 8.74387096e-02 2.90022315e-01\n",
      " 4.44514103e-01 4.01878001e-01 5.26777529e-01 5.67686263e-01\n",
      " 4.32494265e-01 3.02886156e-01 7.68816327e-02 2.96708628e-02\n",
      " 1.54439448e-02 4.25370759e-02 2.14724796e-01 4.95384521e-01\n",
      " 6.25758495e-01 6.66748065e-01 5.10159531e-01 3.50007590e-01\n",
      " 1.99322853e-01 1.17751360e-01 3.49497805e-02 2.22077139e-02\n",
      " 2.15366149e-02 6.90871493e-02 4.17330304e-01 7.62930722e-01\n",
      " 7.69441533e-01 4.37944462e-01 1.75279207e-01 8.22744751e-02\n",
      " 4.69295925e-02 3.28125712e-02 2.35387644e-02 2.26076870e-02]\n",
      "[[1.82051317e-04 7.13874639e-04 3.54689905e-03 ... 1.36104588e-02\n",
      "  1.36383586e-02 1.10199857e-02]\n",
      " [1.85337232e-04 8.05692259e-04 3.66890915e-03 ... 1.95871981e-02\n",
      "  2.47979114e-02 1.95326004e-02]\n",
      " [1.97619571e-04 7.59971102e-04 3.75396531e-03 ... 1.79652502e-02\n",
      "  2.97838698e-02 2.02481849e-02]\n",
      " ...\n",
      " [2.47198033e-05 9.48503172e-05 4.39649591e-04 ... 1.34923839e-01\n",
      "  1.18535464e-01 1.04165098e-01]\n",
      " [1.92099633e-05 8.94486827e-05 4.34293815e-04 ... 1.44062263e-01\n",
      "  1.70215847e-01 9.54851268e-02]\n",
      " [1.72061705e-05 8.72681856e-05 4.37931226e-04 ... 6.08426361e-02\n",
      "  6.29173059e-02 5.27663740e-02]]\n",
      "[[-0.31827517 -0.32885595 -0.29351324 ... -0.36022673 -0.25311227\n",
      "  -0.41772567]\n",
      " [-0.31018965 -0.2727317  -0.2771818  ... -0.17807889  0.22098027\n",
      "  -0.04118938]\n",
      " [-0.27996699 -0.30067912 -0.26579675 ... -0.22750957  0.43279931\n",
      "  -0.00953712]\n",
      " ...\n",
      " [-0.70541453 -0.70723946 -0.70942862 ...  3.33693492  4.20324336\n",
      "   3.70233809]\n",
      " [-0.71897237 -0.71054126 -0.71014551 ...  3.61543866  6.39878693\n",
      "   3.31839917]\n",
      " [-0.72390302 -0.7118741  -0.70965863 ...  1.07922697  1.84041084\n",
      "   1.42883157]]\n"
     ]
    }
   ],
   "source": [
    "# TODO Scale the training and test matrices\n",
    "Xtr_mean = np.mean(Xtr,0)\n",
    "\n",
    "print(Xtr_mean)\n",
    "\n",
    "Xtr_std = np.std(Xtr,0)\n",
    "\n",
    "print(Xtr_std)\n",
    "\n",
    "Xtr_scale = (Xtr - Xtr_mean)/Xtr_std\n",
    "Xts_scale = (Xts - Xtr_mean)/Xtr_std\n",
    "\n",
    "print(Xtr)\n",
    "print(Xtr_scale)"
   ]
  },
  {
   "cell_type": "markdown",
   "metadata": {
    "collapsed": true
   },
   "source": [
    "## Building a Neural Network Classifier\n",
    "\n",
    "Following the example in [MNIST neural network demo](./mnist_neural.ipynb), clear the keras session.  Then, create a neural network `model` with:\n",
    "* `nh=256` hidden units\n",
    "* `sigmoid` activation\n",
    "* select the input and output shapes correctly\n",
    "* print the model summary"
   ]
  },
  {
   "cell_type": "code",
   "execution_count": 157,
   "metadata": {},
   "outputs": [],
   "source": [
    "from keras.models import Model, Sequential\n",
    "from keras.layers import Dense, Activation"
   ]
  },
  {
   "cell_type": "code",
   "execution_count": 158,
   "metadata": {},
   "outputs": [],
   "source": [
    "# TODO clear session\n",
    "import keras.backend as K\n",
    "K.clear_session()"
   ]
  },
  {
   "cell_type": "code",
   "execution_count": 159,
   "metadata": {},
   "outputs": [],
   "source": [
    "# TODO: construct the model\n",
    "nin = Xtr_scale.shape[1]\n",
    "nh = 256\n",
    "nout = int(np.max(ytr)+1)\n",
    "model = Sequential()\n",
    "model.add(Dense(nh, input_shape=(nin,), activation='sigmoid', name='hidden'))\n",
    "model.add(Dense(nout, activation='softmax', name='output'))"
   ]
  },
  {
   "cell_type": "code",
   "execution_count": 160,
   "metadata": {},
   "outputs": [
    {
     "name": "stdout",
     "output_type": "stream",
     "text": [
      "_________________________________________________________________\n",
      "Layer (type)                 Output Shape              Param #   \n",
      "=================================================================\n",
      "hidden (Dense)               (None, 256)               30976     \n",
      "_________________________________________________________________\n",
      "output (Dense)               (None, 10)                2570      \n",
      "=================================================================\n",
      "Total params: 33,546\n",
      "Trainable params: 33,546\n",
      "Non-trainable params: 0\n",
      "_________________________________________________________________\n"
     ]
    }
   ],
   "source": [
    "# TODO:  Print the model summary\n",
    "model.summary()"
   ]
  },
  {
   "cell_type": "markdown",
   "metadata": {},
   "source": [
    "To keep track of the loss history and validation accuracy, we will use a *callback* function as described in [Keras callback documentation](https://keras.io/callbacks/).  A callback is a class that is passed to the `fit` method.  Complete the `LoadHistory` callback class below to save the loss and validation accuracy."
   ]
  },
  {
   "cell_type": "code",
   "execution_count": 161,
   "metadata": {},
   "outputs": [],
   "source": [
    "class LossHistory(keras.callbacks.Callback):\n",
    "    def on_train_begin(self, logs={}):\n",
    "        # TODO:  Create two empty lists, self.loss and self.val_acc\n",
    "        self.loss = []\n",
    "        self.val_acc = []\n",
    " \n",
    "    def on_batch_end(self, batch, logs={}):\n",
    "        # TODO:  This is called at the end of each batch.  \n",
    "        # Add the loss in logs.get('loss') to the loss list\n",
    "        self.loss.append(logs.get('loss'))\n",
    "        \n",
    "    def on_epoch_end(self, epoch, logs):\n",
    "        # TODO:  This is called at the end of each epoch.  \n",
    "        # Add the test accuracy in logs.get('val_acc') to the val_acc list\n",
    "        self.val_acc.append(logs.get('val_acc'))\n",
    "\n",
    "# Create an instance of the history callback\n",
    "history_cb = LossHistory()"
   ]
  },
  {
   "cell_type": "markdown",
   "metadata": {},
   "source": [
    "Create an optimizer and compile the model.  Select the appropriate loss function and metrics.  For the optimizer, use the Adam optimizer with a learning rate of 0.001"
   ]
  },
  {
   "cell_type": "code",
   "execution_count": 162,
   "metadata": {
    "scrolled": true
   },
   "outputs": [],
   "source": [
    "# TODO\n",
    "from keras import optimizers\n",
    "\n",
    "opt = optimizers.Adam(lr=0.001)\n",
    "model.compile(optimizer=opt, loss='sparse_categorical_crossentropy', metrics=['accuracy'])"
   ]
  },
  {
   "cell_type": "markdown",
   "metadata": {},
   "source": [
    "Fit the model for 10 epochs using the scaled data for both the training and validation.  Use the `validation_data` option to pass the test data.  Also, pass the callback class create above.  Use a batch size of 100.  Your final accuracy should be >99%."
   ]
  },
  {
   "cell_type": "code",
   "execution_count": 163,
   "metadata": {
    "scrolled": true
   },
   "outputs": [
    {
     "name": "stdout",
     "output_type": "stream",
     "text": [
      "Train on 66247 samples, validate on 14904 samples\n",
      "Epoch 1/10\n",
      "66247/66247 [==============================] - 2s 31us/step - loss: 0.3683 - acc: 0.8997 - val_loss: 0.1977 - val_acc: 0.9431\n",
      "Epoch 2/10\n",
      "66247/66247 [==============================] - 2s 27us/step - loss: 0.1048 - acc: 0.9752 - val_loss: 0.0927 - val_acc: 0.9776\n",
      "Epoch 3/10\n",
      "66247/66247 [==============================] - 2s 25us/step - loss: 0.0618 - acc: 0.9850 - val_loss: 0.0681 - val_acc: 0.9840\n",
      "Epoch 4/10\n",
      "66247/66247 [==============================] - 2s 28us/step - loss: 0.0436 - acc: 0.9891 - val_loss: 0.0453 - val_acc: 0.9881\n",
      "Epoch 5/10\n",
      "66247/66247 [==============================] - 2s 26us/step - loss: 0.0329 - acc: 0.9915 - val_loss: 0.0349 - val_acc: 0.9915\n",
      "Epoch 6/10\n",
      "66247/66247 [==============================] - 2s 27us/step - loss: 0.0260 - acc: 0.9933 - val_loss: 0.0376 - val_acc: 0.9897\n",
      "Epoch 7/10\n",
      "66247/66247 [==============================] - 2s 29us/step - loss: 0.0214 - acc: 0.9946 - val_loss: 0.0295 - val_acc: 0.9922\n",
      "Epoch 8/10\n",
      "66247/66247 [==============================] - 2s 36us/step - loss: 0.0178 - acc: 0.9953 - val_loss: 0.0280 - val_acc: 0.9922\n",
      "Epoch 9/10\n",
      "66247/66247 [==============================] - 2s 30us/step - loss: 0.0153 - acc: 0.9962 - val_loss: 0.0271 - val_acc: 0.9914\n",
      "Epoch 10/10\n",
      "66247/66247 [==============================] - 2s 29us/step - loss: 0.0130 - acc: 0.9968 - val_loss: 0.0236 - val_acc: 0.9923\n"
     ]
    },
    {
     "data": {
      "text/plain": [
       "<keras.callbacks.History at 0x1c554b9da0>"
      ]
     },
     "execution_count": 163,
     "metadata": {},
     "output_type": "execute_result"
    }
   ],
   "source": [
    "# TODO\n",
    "batch_size = 100\n",
    "model.fit(Xtr_scale, ytr, epochs=10, batch_size=100, validation_data=(Xts_scale,yts), callbacks = [history_cb])"
   ]
  },
  {
   "cell_type": "markdown",
   "metadata": {},
   "source": [
    "Plot the validation accuracy saved in the `history_cb`. This gives one accuracy value per epoch.  You should see that the validation accuracy saturates at a little higher than 99%.  After that it \"bounces around\" due to the noise in the stochastic gradient descent."
   ]
  },
  {
   "cell_type": "code",
   "execution_count": 164,
   "metadata": {},
   "outputs": [
    {
     "data": {
      "text/plain": [
       "Text(0,0.5,'Accuracy')"
      ]
     },
     "execution_count": 164,
     "metadata": {},
     "output_type": "execute_result"
    },
    {
     "data": {
      "image/png": "[encoded data removed]",
      "text/plain": [
       "<Figure size 432x288 with 1 Axes>"
      ]
     },
     "metadata": {},
     "output_type": "display_data"
    }
   ],
   "source": [
    "# TODO\n",
    "epochs = np.linspace(1,10,10)\n",
    "plt.plot(epochs,history_cb.val_acc)\n",
    "plt.xlabel(\"Epoch\")\n",
    "plt.ylabel(\"Accuracy\")"
   ]
  },
  {
   "cell_type": "markdown",
   "metadata": {},
   "source": [
    "Plot the loss values saved in the `history_cb` class.  Use the `semilogy` plot.  There is one loss value per step.  But, plot the x-axis in epochs.  Note that the epoch in step `i` is `epoch = i*batch_size/ntr` where `batch_size` is the batch_size and `ntr` is the total number of training samples."
   ]
  },
  {
   "cell_type": "code",
   "execution_count": 165,
   "metadata": {},
   "outputs": [
    {
     "data": {
      "text/plain": [
       "Text(0,0.5,'Loss')"
      ]
     },
     "execution_count": 165,
     "metadata": {},
     "output_type": "execute_result"
    },
    {
     "data": {
      "image/png": "[encoded data removed]",
      "text/plain": [
       "<Figure size 432x288 with 1 Axes>"
      ]
     },
     "metadata": {},
     "output_type": "display_data"
    }
   ],
   "source": [
    "# TODO\n",
    "batch_size = 100\n",
    "ntr = Xtr_scale.shape[0]\n",
    "loss_epochs = [i*batch_size/ntr for i in range(len(history_cb.loss))]\n",
    "\n",
    "plt.plot(loss_epochs,history_cb.loss)\n",
    "plt.xlabel('Epoch')\n",
    "plt.ylabel('Loss')"
   ]
  },
  {
   "cell_type": "markdown",
   "metadata": {},
   "source": [
    "## Optimizing the Learning Rate\n",
    "\n",
    "One challenge in training neural networks is the selection of the learning rate.  Rerun the above code, trying three learning rates as shown in the vector `rates`.  For each learning rate:\n",
    "* clear the session\n",
    "* construct the network\n",
    "* select the optimizer.  Use the Adam optimizer with the appropriate learrning rate.\n",
    "* train the model\n",
    "* save the accuracy and losses"
   ]
  },
  {
   "cell_type": "code",
   "execution_count": 166,
   "metadata": {},
   "outputs": [
    {
     "name": "stdout",
     "output_type": "stream",
     "text": [
      "Train on 66247 samples, validate on 14904 samples\n",
      "Epoch 1/10\n",
      "66247/66247 [==============================] - 2s 34us/step - loss: 0.1116 - acc: 0.9649 - val_loss: 0.1141 - val_acc: 0.9562\n",
      "Epoch 2/10\n",
      "66247/66247 [==============================] - 2s 29us/step - loss: 0.0290 - acc: 0.9903 - val_loss: 0.0493 - val_acc: 0.9816\n",
      "Epoch 3/10\n",
      "66247/66247 [==============================] - 2s 30us/step - loss: 0.0223 - acc: 0.9928 - val_loss: 0.0579 - val_acc: 0.9793\n",
      "Epoch 4/10\n",
      "66247/66247 [==============================] - 3s 39us/step - loss: 0.0190 - acc: 0.9936 - val_loss: 0.0511 - val_acc: 0.9825\n",
      "Epoch 5/10\n",
      "66247/66247 [==============================] - 2s 35us/step - loss: 0.0171 - acc: 0.9942 - val_loss: 0.0407 - val_acc: 0.9856\n",
      "Epoch 6/10\n",
      "66247/66247 [==============================] - 2s 30us/step - loss: 0.0141 - acc: 0.9956 - val_loss: 0.0675 - val_acc: 0.9813\n",
      "Epoch 7/10\n",
      "66247/66247 [==============================] - 2s 32us/step - loss: 0.0141 - acc: 0.9952 - val_loss: 0.0485 - val_acc: 0.9859\n",
      "Epoch 8/10\n",
      "66247/66247 [==============================] - 2s 28us/step - loss: 0.0130 - acc: 0.9959 - val_loss: 0.0293 - val_acc: 0.9915\n",
      "Epoch 9/10\n",
      "66247/66247 [==============================] - 2s 28us/step - loss: 0.0119 - acc: 0.9964 - val_loss: 0.1051 - val_acc: 0.9732\n",
      "Epoch 10/10\n",
      "66247/66247 [==============================] - 3s 38us/step - loss: 0.0129 - acc: 0.9959 - val_loss: 0.0551 - val_acc: 0.9856\n",
      "Train on 66247 samples, validate on 14904 samples\n",
      "Epoch 1/10\n",
      "66247/66247 [==============================] - 2s 32us/step - loss: 0.3635 - acc: 0.9019 - val_loss: 0.1844 - val_acc: 0.9563\n",
      "Epoch 2/10\n",
      "66247/66247 [==============================] - 2s 28us/step - loss: 0.1028 - acc: 0.9751 - val_loss: 0.0922 - val_acc: 0.9762\n",
      "Epoch 3/10\n",
      "66247/66247 [==============================] - 2s 29us/step - loss: 0.0606 - acc: 0.9855 - val_loss: 0.0594 - val_acc: 0.9848\n",
      "Epoch 4/10\n",
      "66247/66247 [==============================] - 2s 29us/step - loss: 0.0424 - acc: 0.9894 - val_loss: 0.0544 - val_acc: 0.9852\n",
      "Epoch 5/10\n",
      "66247/66247 [==============================] - 2s 29us/step - loss: 0.0323 - acc: 0.9917 - val_loss: 0.0367 - val_acc: 0.9901\n",
      "Epoch 6/10\n",
      "66247/66247 [==============================] - 2s 30us/step - loss: 0.0255 - acc: 0.9932 - val_loss: 0.0313 - val_acc: 0.9922\n",
      "Epoch 7/10\n",
      "66247/66247 [==============================] - 2s 30us/step - loss: 0.0209 - acc: 0.9941 - val_loss: 0.0290 - val_acc: 0.9919\n",
      "Epoch 8/10\n",
      "66247/66247 [==============================] - 2s 29us/step - loss: 0.0173 - acc: 0.9954 - val_loss: 0.0263 - val_acc: 0.9925\n",
      "Epoch 9/10\n",
      "66247/66247 [==============================] - 2s 30us/step - loss: 0.0148 - acc: 0.9963 - val_loss: 0.0247 - val_acc: 0.9926\n",
      "Epoch 10/10\n",
      "66247/66247 [==============================] - 2s 30us/step - loss: 0.0128 - acc: 0.9965 - val_loss: 0.0256 - val_acc: 0.9921\n",
      "Train on 66247 samples, validate on 14904 samples\n",
      "Epoch 1/10\n",
      "66247/66247 [==============================] - 2s 30us/step - loss: 1.1150 - acc: 0.6617 - val_loss: 0.8481 - val_acc: 0.6772\n",
      "Epoch 2/10\n",
      "66247/66247 [==============================] - 2s 28us/step - loss: 0.5528 - acc: 0.8470 - val_loss: 0.5785 - val_acc: 0.8237\n",
      "Epoch 3/10\n",
      "66247/66247 [==============================] - 2s 28us/step - loss: 0.3830 - acc: 0.9122 - val_loss: 0.4353 - val_acc: 0.8785\n",
      "Epoch 4/10\n",
      "66247/66247 [==============================] - 2s 28us/step - loss: 0.2961 - acc: 0.9336 - val_loss: 0.3460 - val_acc: 0.9085\n",
      "Epoch 5/10\n",
      "66247/66247 [==============================] - 2s 29us/step - loss: 0.2407 - acc: 0.9465 - val_loss: 0.2922 - val_acc: 0.9189\n",
      "Epoch 6/10\n",
      "66247/66247 [==============================] - 2s 28us/step - loss: 0.2009 - acc: 0.9547 - val_loss: 0.2421 - val_acc: 0.9348\n",
      "Epoch 7/10\n",
      "66247/66247 [==============================] - 2s 34us/step - loss: 0.1706 - acc: 0.9606 - val_loss: 0.2120 - val_acc: 0.9402\n",
      "Epoch 8/10\n",
      "66247/66247 [==============================] - 2s 28us/step - loss: 0.1468 - acc: 0.9659 - val_loss: 0.1806 - val_acc: 0.9476\n",
      "Epoch 9/10\n",
      "66247/66247 [==============================] - 2s 29us/step - loss: 0.1277 - acc: 0.9699 - val_loss: 0.1585 - val_acc: 0.9556\n",
      "Epoch 10/10\n",
      "66247/66247 [==============================] - 2s 30us/step - loss: 0.1123 - acc: 0.9738 - val_loss: 0.1377 - val_acc: 0.9620\n"
     ]
    }
   ],
   "source": [
    "rates = [0.01,0.001,0.0001]\n",
    "batch_size = 100\n",
    "loss_hist = []\n",
    "val_acc_hist = []\n",
    "\n",
    "# TODO\n",
    "for lr in rates:\n",
    "    keras.backend.clear_session()\n",
    "    nh = 256\n",
    "    nin = Xtr_scale.shape[1]\n",
    "    nout = int(np.max(ytr)+1)\n",
    "\n",
    "    model = Sequential()\n",
    "    model.add(Dense(nh, input_shape = (nin,), activation = 'sigmoid', name='hidden'))\n",
    "    model.add(Dense(nout, activation='softmax', name='output'))\n",
    "    \n",
    "    opt = keras.optimizers.Adam(lr=lr)\n",
    "    model.compile(optimizer=opt, loss=\"sparse_categorical_crossentropy\", metrics=['accuracy'])\n",
    "    \n",
    "    history_cb = LossHistory()\n",
    "    model.fit(Xtr_scale, ytr, epochs=10, batch_size=100, validation_data=(Xts_scale,yts), callbacks = [history_cb])\n",
    "    \n",
    "    loss_hist.append(history_cb.loss)\n",
    "    val_acc_hist.append(history_cb.val_acc)"
   ]
  },
  {
   "cell_type": "markdown",
   "metadata": {},
   "source": [
    "Plot the loss funciton vs. the epoch number for all three learning rates on one graph.  You should see that the lower learning rates are more stable, but converge slower."
   ]
  },
  {
   "cell_type": "code",
   "execution_count": 167,
   "metadata": {},
   "outputs": [
    {
     "data": {
      "text/plain": [
       "<matplotlib.legend.Legend at 0x1c592de5f8>"
      ]
     },
     "execution_count": 167,
     "metadata": {},
     "output_type": "execute_result"
    },
    {
     "data": {
      "image/png": "[encoded data removed]",
      "text/plain": [
       "<Figure size 432x288 with 1 Axes>"
      ]
     },
     "metadata": {},
     "output_type": "display_data"
    }
   ],
   "source": [
    "# TODO\n",
    "plt.plot(loss_epochs,loss_hist[0], 'b')\n",
    "plt.plot(loss_epochs,loss_hist[1], 'r')\n",
    "plt.plot(loss_epochs,loss_hist[2], 'g')\n",
    "plt.xlabel(\"Epoch\")\n",
    "plt.ylabel(\"Loss\")\n",
    "plt.legend(['0.01', '0.001', '0.0001'])"
   ]
  }
 ],
 "metadata": {
  "anaconda-cloud": {},
  "kernelspec": {
   "display_name": "Python 3",
   "language": "python",
   "name": "python3"
  },
  "language_info": {
   "codemirror_mode": {
    "name": "ipython",
    "version": 3
   },
   "file_extension": ".py",
   "mimetype": "text/x-python",
   "name": "python",
   "nbconvert_exporter": "python",
   "pygments_lexer": "ipython3",
   "version": "3.6.5"
  }
 },
 "nbformat": 4,
 "nbformat_minor": 1
}
